{
 "cells": [
  {
   "cell_type": "code",
   "execution_count": 1,
   "metadata": {},
   "outputs": [],
   "source": [
    "import nltk\n",
    "import pandas as pd\n",
    "import numpy as np\n",
    "import os, re, sys"
   ]
  },
  {
   "cell_type": "code",
   "execution_count": 2,
   "metadata": {},
   "outputs": [],
   "source": [
    "from nltk.corpus import brown"
   ]
  },
  {
   "cell_type": "code",
   "execution_count": 3,
   "metadata": {},
   "outputs": [],
   "source": [
    "from nltk.util import ngrams"
   ]
  },
  {
   "cell_type": "code",
   "execution_count": 4,
   "metadata": {},
   "outputs": [],
   "source": [
    "from collections import Counter, defaultdict"
   ]
  },
  {
   "cell_type": "code",
   "execution_count": 5,
   "metadata": {},
   "outputs": [],
   "source": [
    "import sklearn"
   ]
  },
  {
   "cell_type": "code",
   "execution_count": 6,
   "metadata": {},
   "outputs": [],
   "source": [
    "from scipy import sparse"
   ]
  },
  {
   "cell_type": "code",
   "execution_count": 7,
   "metadata": {},
   "outputs": [
    {
     "name": "stderr",
     "output_type": "stream",
     "text": [
      "[nltk_data] Downloading package brown to /u/vkpriya/nltk_data...\n",
      "[nltk_data]   Package brown is already up-to-date!\n"
     ]
    },
    {
     "data": {
      "text/plain": [
       "True"
      ]
     },
     "execution_count": 7,
     "metadata": {},
     "output_type": "execute_result"
    }
   ],
   "source": [
    "nltk.download('brown')"
   ]
  },
  {
   "cell_type": "code",
   "execution_count": 8,
   "metadata": {},
   "outputs": [],
   "source": [
    "words = brown.words()"
   ]
  },
  {
   "cell_type": "code",
   "execution_count": 9,
   "metadata": {},
   "outputs": [],
   "source": [
    "corpus = ' '.join(words)"
   ]
  },
  {
   "cell_type": "code",
   "execution_count": 10,
   "metadata": {},
   "outputs": [
    {
     "data": {
      "text/plain": [
       "\"The Fulton County Grand Jury said Friday an investigation of Atlanta's recent primary election produ\""
      ]
     },
     "execution_count": 10,
     "metadata": {},
     "output_type": "execute_result"
    }
   ],
   "source": [
    "corpus[:100]"
   ]
  },
  {
   "cell_type": "code",
   "execution_count": 11,
   "metadata": {},
   "outputs": [
    {
     "data": {
      "text/plain": [
       "nltk.corpus.reader.util.ConcatenatedCorpusView"
      ]
     },
     "execution_count": 11,
     "metadata": {},
     "output_type": "execute_result"
    }
   ],
   "source": [
    "type(words)"
   ]
  },
  {
   "cell_type": "code",
   "execution_count": 9,
   "metadata": {},
   "outputs": [],
   "source": [
    "words = list(words)"
   ]
  },
  {
   "cell_type": "code",
   "execution_count": 65,
   "metadata": {},
   "outputs": [],
   "source": [
    "words = [x.lower() for x in words]"
   ]
  },
  {
   "cell_type": "code",
   "execution_count": 66,
   "metadata": {},
   "outputs": [
    {
     "data": {
      "text/plain": [
       "['the',\n",
       " 'fulton',\n",
       " 'county',\n",
       " 'grand',\n",
       " 'jury',\n",
       " 'said',\n",
       " 'friday',\n",
       " 'an',\n",
       " 'investigation',\n",
       " 'of']"
      ]
     },
     "execution_count": 66,
     "metadata": {},
     "output_type": "execute_result"
    }
   ],
   "source": [
    "words[:10]"
   ]
  },
  {
   "cell_type": "code",
   "execution_count": 67,
   "metadata": {},
   "outputs": [
    {
     "data": {
      "text/plain": [
       "1161192"
      ]
     },
     "execution_count": 67,
     "metadata": {},
     "output_type": "execute_result"
    }
   ],
   "source": [
    "len(words)"
   ]
  },
  {
   "cell_type": "code",
   "execution_count": 68,
   "metadata": {},
   "outputs": [],
   "source": [
    "unigram_counter = Counter(list(words))"
   ]
  },
  {
   "cell_type": "code",
   "execution_count": 69,
   "metadata": {},
   "outputs": [
    {
     "data": {
      "text/plain": [
       "[('the', 69971),\n",
       " (',', 58334),\n",
       " ('.', 49346),\n",
       " ('of', 36412),\n",
       " ('and', 28853),\n",
       " ('to', 26158),\n",
       " ('a', 23195),\n",
       " ('in', 21337),\n",
       " ('that', 10594),\n",
       " ('is', 10109)]"
      ]
     },
     "execution_count": 69,
     "metadata": {},
     "output_type": "execute_result"
    }
   ],
   "source": [
    "unigram_counter.most_common(10)"
   ]
  },
  {
   "cell_type": "code",
   "execution_count": 70,
   "metadata": {},
   "outputs": [],
   "source": [
    "top_500 = unigram_counter.most_common(5000)"
   ]
  },
  {
   "cell_type": "code",
   "execution_count": 71,
   "metadata": {},
   "outputs": [],
   "source": [
    "W = [x[0] for x in top_500]"
   ]
  },
  {
   "cell_type": "code",
   "execution_count": 72,
   "metadata": {},
   "outputs": [],
   "source": [
    "W = [x.lower() for x in W]"
   ]
  },
  {
   "cell_type": "code",
   "execution_count": 73,
   "metadata": {},
   "outputs": [
    {
     "data": {
      "text/plain": [
       "5000"
      ]
     },
     "execution_count": 73,
     "metadata": {},
     "output_type": "execute_result"
    }
   ],
   "source": [
    "len(set(W))"
   ]
  },
  {
   "cell_type": "code",
   "execution_count": 74,
   "metadata": {},
   "outputs": [
    {
     "name": "stdout",
     "output_type": "stream",
     "text": [
      "Most common:  ['the', ',', '.', 'of', 'and']\n",
      "Least common:  ['cheek', 'awake', 'pursue', 'peered', 'crawled']\n"
     ]
    }
   ],
   "source": [
    "print(\"Most common: \", W[:5])\n",
    "print(\"Least common: \", W[-5:])"
   ]
  },
  {
   "cell_type": "code",
   "execution_count": 75,
   "metadata": {},
   "outputs": [],
   "source": [
    "#Add RG65 words\n",
    "rg_data = [('cord', 'smile', 0.02), ('rooster', 'voyage', 0.04), ('noon', 'string', 0.04), ('fruit', 'furnace', 0.05),\n",
    "           ('autograph', 'shore', 0.06), ('automobile', 'wizard', 0.11), ('mound', 'stove', 0.14), ('grin', 'implement', 0.18),\n",
    "           ('asylum', 'fruit', 0.19), ('asylum', 'monk', 0.39), ('graveyard', 'madhouse', 0.42), ('glass', 'magician',0.44),\n",
    "          ('boy', 'rooster', 0.44), ('cushion', 'jewel', 0.45), ('monk', 'slave', 0.57), ('asylum', 'cemetery', 0.79), \n",
    "          ('coast', 'forest', 0.85), ('grin', 'lad', 0.88), ('shore', 'woodland', 0.90), ('monk', 'oracle', 0.91), ('boy', 'sage', 0.96),\n",
    "          ('automobile', 'cushion', 0.97), ('mound','shore',0.97), ('lad', 'wizard', 0.99), ('forest', 'graveyard', 1.0), \n",
    "          ('food', 'rooster', 1.09), ('cemetery', 'woodland', 1.18), ('shore', 'voyage', 1.22), ('bird', 'woodland', 1.24),\n",
    "          ('coast', 'hill', 1.26), ('furnace', 'implement', 1.37), ('crane', 'rooster', 1.41), ('hill', 'woodland', 1.48),\n",
    "          ('car', 'journey', 1.55), ('cemetery', 'mound', 1.69), ('glass', 'jewel', 1.78), ('magician', 'oracle', 1.82), \n",
    "          ('crane', 'implement', 2.37), ('brother', 'lad', 2.41), ('sage', 'wizard', 2.46), ('oracle', 'sage', 2.61), \n",
    "          ('bird', 'crane', 2.63), ('bird', 'cock', 2.63), ('food', 'fruit', 2.69), ('brother', 'monk', 2.74), ('asylum', 'madhouse', 3.04),\n",
    "          ('furnace', 'stove', 3.11), ('magician', 'wizard', 3.21), ('hill', 'mound', 3.29), ('cord', 'string', 3.41), \n",
    "          ('glass', 'tumbler', 3.45), ('grin', 'smile', 3.46), ('serf', 'slave', 3.46), ('journey', 'voyage', 3.58), \n",
    "          ('autograph', 'signature', 3.59), ('coast', 'shore', 3.60), ('forest', 'woodland', 3.65), ('implement', 'tool', 3.66),\n",
    "          ('cock', 'rooster', 3.68), ('boy', 'lad', 3.82), ('cushion', 'pillow', 3.84), ('cemetery', 'graveyard', 3.88), \n",
    "          ('automobile', 'car', 3.92), ('midday', 'noon', 3.94), ('gem', 'jewel', 3.94)] "
   ]
  },
  {
   "cell_type": "code",
   "execution_count": 18,
   "metadata": {},
   "outputs": [
    {
     "data": {
      "text/plain": [
       "65"
      ]
     },
     "execution_count": 18,
     "metadata": {},
     "output_type": "execute_result"
    }
   ],
   "source": [
    "len(rg_data)"
   ]
  },
  {
   "cell_type": "code",
   "execution_count": 76,
   "metadata": {},
   "outputs": [],
   "source": [
    "rg_45_words = []\n",
    "for s in rg_data:\n",
    "    rg_45_words.extend([s[0], s[1]])"
   ]
  },
  {
   "cell_type": "code",
   "execution_count": 77,
   "metadata": {},
   "outputs": [],
   "source": [
    "rg_45_words = list(set(rg_45_words))"
   ]
  },
  {
   "cell_type": "code",
   "execution_count": 78,
   "metadata": {},
   "outputs": [
    {
     "name": "stdout",
     "output_type": "stream",
     "text": [
      "48 ['smile', 'bird', 'forest', 'monk', 'pillow']\n"
     ]
    }
   ],
   "source": [
    "print(len(rg_45_words), rg_45_words[:5])"
   ]
  },
  {
   "cell_type": "code",
   "execution_count": 79,
   "metadata": {},
   "outputs": [],
   "source": [
    "W.extend(rg_45_words)\n",
    "W = list(set(W))"
   ]
  },
  {
   "cell_type": "code",
   "execution_count": 80,
   "metadata": {},
   "outputs": [
    {
     "data": {
      "text/plain": [
       "5031"
      ]
     },
     "execution_count": 80,
     "metadata": {},
     "output_type": "execute_result"
    }
   ],
   "source": [
    "len(W)"
   ]
  },
  {
   "cell_type": "code",
   "execution_count": 81,
   "metadata": {},
   "outputs": [],
   "source": [
    "#dictionary\n",
    "W_ind = {}\n",
    "i = 0\n",
    "for w in W:\n",
    "    W_ind[w] = i\n",
    "    i = i+1"
   ]
  },
  {
   "cell_type": "code",
   "execution_count": 82,
   "metadata": {},
   "outputs": [],
   "source": [
    "#bigram counts\n",
    "n = 2\n",
    "bigrams = ngrams(brown.words(), n)"
   ]
  },
  {
   "cell_type": "code",
   "execution_count": 26,
   "metadata": {},
   "outputs": [
    {
     "data": {
      "text/plain": [
       "['The', 'Fulton', 'County', 'Grand', 'Jury', 'said', ...]"
      ]
     },
     "execution_count": 26,
     "metadata": {},
     "output_type": "execute_result"
    }
   ],
   "source": [
    "brown.words()"
   ]
  },
  {
   "cell_type": "code",
   "execution_count": 27,
   "metadata": {},
   "outputs": [
    {
     "data": {
      "text/plain": [
       "generator"
      ]
     },
     "execution_count": 27,
     "metadata": {},
     "output_type": "execute_result"
    }
   ],
   "source": [
    "type(bigrams)"
   ]
  },
  {
   "cell_type": "code",
   "execution_count": 83,
   "metadata": {},
   "outputs": [],
   "source": [
    "bigrams = list(bigrams)"
   ]
  },
  {
   "cell_type": "code",
   "execution_count": 84,
   "metadata": {},
   "outputs": [
    {
     "data": {
      "text/plain": [
       "[('The', 'Fulton'),\n",
       " ('Fulton', 'County'),\n",
       " ('County', 'Grand'),\n",
       " ('Grand', 'Jury'),\n",
       " ('Jury', 'said')]"
      ]
     },
     "execution_count": 84,
     "metadata": {},
     "output_type": "execute_result"
    }
   ],
   "source": [
    "bigrams[:5]"
   ]
  },
  {
   "cell_type": "code",
   "execution_count": 85,
   "metadata": {},
   "outputs": [
    {
     "data": {
      "text/plain": [
       "1161191"
      ]
     },
     "execution_count": 85,
     "metadata": {},
     "output_type": "execute_result"
    }
   ],
   "source": [
    "len(bigrams)"
   ]
  },
  {
   "cell_type": "code",
   "execution_count": 86,
   "metadata": {},
   "outputs": [],
   "source": [
    "cc_mat = np.zeros((len(W), len(W)))"
   ]
  },
  {
   "cell_type": "code",
   "execution_count": 87,
   "metadata": {},
   "outputs": [
    {
     "data": {
      "text/plain": [
       "(5031, 5031)"
      ]
     },
     "execution_count": 87,
     "metadata": {},
     "output_type": "execute_result"
    }
   ],
   "source": [
    "cc_mat.shape"
   ]
  },
  {
   "cell_type": "code",
   "execution_count": 88,
   "metadata": {},
   "outputs": [],
   "source": [
    "for big in bigrams:\n",
    "    try:\n",
    "        cc_mat[W_ind[big[0].lower()]][W_ind[big[1].lower()]] += 1\n",
    "    except KeyError as e:\n",
    "        pass"
   ]
  },
  {
   "cell_type": "code",
   "execution_count": 34,
   "metadata": {},
   "outputs": [
    {
     "data": {
      "text/plain": [
       "array([0., 0., 0., ..., 0., 0., 0.])"
      ]
     },
     "execution_count": 34,
     "metadata": {},
     "output_type": "execute_result"
    }
   ],
   "source": [
    "cc_mat[0]"
   ]
  },
  {
   "cell_type": "code",
   "execution_count": 62,
   "metadata": {},
   "outputs": [
    {
     "data": {
      "text/plain": [
       "861019.0"
      ]
     },
     "execution_count": 62,
     "metadata": {},
     "output_type": "execute_result"
    }
   ],
   "source": [
    "#uppercase\n",
    "#np.sum(cc_mat)"
   ]
  },
  {
   "cell_type": "code",
   "execution_count": 89,
   "metadata": {},
   "outputs": [
    {
     "data": {
      "text/plain": [
       "892332.0"
      ]
     },
     "execution_count": 89,
     "metadata": {},
     "output_type": "execute_result"
    }
   ],
   "source": [
    "#lowercased\n",
    "np.sum(cc_mat)"
   ]
  },
  {
   "cell_type": "code",
   "execution_count": 35,
   "metadata": {},
   "outputs": [],
   "source": [
    "cc_mat = sparse.csr_matrix(cc_mat)"
   ]
  },
  {
   "cell_type": "code",
   "execution_count": 36,
   "metadata": {},
   "outputs": [
    {
     "data": {
      "text/plain": [
       "<5031x5031 sparse matrix of type '<class 'numpy.float64'>'\n",
       "\twith 213693 stored elements in Compressed Sparse Row format>"
      ]
     },
     "execution_count": 36,
     "metadata": {},
     "output_type": "execute_result"
    }
   ],
   "source": [
    "cc_mat"
   ]
  },
  {
   "cell_type": "code",
   "execution_count": 37,
   "metadata": {},
   "outputs": [],
   "source": [
    "#ppmi\n",
    "def get_ppmi(cc_mat):\n",
    "    row_sum = np.sum(cc_mat, axis=1)\n",
    "    col_sum = np.sum(cc_mat, axis = 0)\n",
    "    total_num = np.sum(row_sum)\n",
    "    \n",
    "    denom = np.outer(row_sum, col_sum) / total_num\n",
    "    \n",
    "    probs = cc_mat / denom\n",
    "    \n",
    "    probs = np.nan_to_num(probs)\n",
    "    \n",
    "            \n",
    "    #probs = np.divide(cc_mat, denom, out=np.zeros_like(cc_mat.shape), where=denom!=float(0))\n",
    "    with np.errstate(divide='ignore'):\n",
    "        probs = np.log2(probs)\n",
    "    \n",
    "    probs[np.isinf(probs)] = 0.0\n",
    "    \n",
    "    probs[probs < 0] = 0.0\n",
    "    \n",
    "    return probs\n",
    "    \n",
    "    \n",
    "    "
   ]
  },
  {
   "cell_type": "code",
   "execution_count": 39,
   "metadata": {},
   "outputs": [
    {
     "data": {
      "text/plain": [
       "<5031x5031 sparse matrix of type '<class 'numpy.float64'>'\n",
       "\twith 213693 stored elements in Compressed Sparse Row format>"
      ]
     },
     "execution_count": 39,
     "metadata": {},
     "output_type": "execute_result"
    }
   ],
   "source": [
    "cc_mat"
   ]
  },
  {
   "cell_type": "code",
   "execution_count": 40,
   "metadata": {},
   "outputs": [],
   "source": [
    "#np.zeros_like(cc_mat)"
   ]
  },
  {
   "cell_type": "code",
   "execution_count": 38,
   "metadata": {},
   "outputs": [
    {
     "name": "stderr",
     "output_type": "stream",
     "text": [
      "/ais/hal9000/vkpriya/miniconda3/envs/pytorch_cu9/lib/python3.7/site-packages/scipy/sparse/base.py:594: RuntimeWarning: divide by zero encountered in true_divide\n",
      "  return np.true_divide(self.todense(), other)\n",
      "/ais/hal9000/vkpriya/miniconda3/envs/pytorch_cu9/lib/python3.7/site-packages/scipy/sparse/base.py:594: RuntimeWarning: invalid value encountered in true_divide\n",
      "  return np.true_divide(self.todense(), other)\n"
     ]
    }
   ],
   "source": [
    "ppmi_mat = get_ppmi(cc_mat)"
   ]
  },
  {
   "cell_type": "code",
   "execution_count": 39,
   "metadata": {},
   "outputs": [
    {
     "data": {
      "text/plain": [
       "(5031, 5031)"
      ]
     },
     "execution_count": 39,
     "metadata": {},
     "output_type": "execute_result"
    }
   ],
   "source": [
    "ppmi_mat.shape"
   ]
  },
  {
   "cell_type": "code",
   "execution_count": 40,
   "metadata": {},
   "outputs": [
    {
     "data": {
      "text/plain": [
       "0.0"
      ]
     },
     "execution_count": 40,
     "metadata": {},
     "output_type": "execute_result"
    }
   ],
   "source": [
    "np.min(ppmi_mat)"
   ]
  },
  {
   "cell_type": "code",
   "execution_count": 41,
   "metadata": {},
   "outputs": [
    {
     "data": {
      "text/plain": [
       "15.323368125404834"
      ]
     },
     "execution_count": 41,
     "metadata": {},
     "output_type": "execute_result"
    }
   ],
   "source": [
    "np.max(ppmi_mat)"
   ]
  },
  {
   "cell_type": "code",
   "execution_count": 42,
   "metadata": {},
   "outputs": [],
   "source": [
    "from sklearn.decomposition import PCA"
   ]
  },
  {
   "cell_type": "code",
   "execution_count": 43,
   "metadata": {},
   "outputs": [],
   "source": [
    "pca_10 = PCA(n_components = 10)\n",
    "pca_100 = PCA(n_components = 100)\n",
    "pca_300 = PCA(n_components = 300)"
   ]
  },
  {
   "cell_type": "code",
   "execution_count": 44,
   "metadata": {},
   "outputs": [],
   "source": [
    "pca_10_mat = pca_10.fit_transform(ppmi_mat)"
   ]
  },
  {
   "cell_type": "code",
   "execution_count": 45,
   "metadata": {},
   "outputs": [],
   "source": [
    "pca_100_mat = pca_100.fit_transform(ppmi_mat)\n",
    "pca_300_mat = pca_300.fit_transform(ppmi_mat)"
   ]
  },
  {
   "cell_type": "code",
   "execution_count": 46,
   "metadata": {},
   "outputs": [
    {
     "data": {
      "text/plain": [
       "((5031, 10), (5031, 100), (5031, 300))"
      ]
     },
     "execution_count": 46,
     "metadata": {},
     "output_type": "execute_result"
    }
   ],
   "source": [
    "pca_10_mat.shape, pca_100_mat.shape, pca_300_mat.shape"
   ]
  },
  {
   "cell_type": "code",
   "execution_count": 47,
   "metadata": {},
   "outputs": [],
   "source": [
    "#pickle save\n",
    "import pickle as pkl"
   ]
  },
  {
   "cell_type": "code",
   "execution_count": 48,
   "metadata": {},
   "outputs": [],
   "source": [
    "pkl.dump(pca_10_mat, open(\"pca_10_mat.pkl\", 'wb'))"
   ]
  },
  {
   "cell_type": "code",
   "execution_count": 49,
   "metadata": {},
   "outputs": [],
   "source": [
    "pkl.dump(pca_100_mat, open(\"pca_100_mat.pkl\", 'wb'))\n",
    "pkl.dump(pca_300_mat, open(\"pca_300_mat.pkl\", 'wb'))"
   ]
  },
  {
   "cell_type": "code",
   "execution_count": 50,
   "metadata": {},
   "outputs": [],
   "source": [
    "#W_ind\n",
    "pkl.dump(W_ind, open(\"w2ind.pkl\", 'wb'))\n"
   ]
  },
  {
   "cell_type": "code",
   "execution_count": 51,
   "metadata": {},
   "outputs": [],
   "source": [
    "S = []\n",
    "S_wordpairs = []\n",
    "for pair in rg_data:\n",
    "    if (pair[0] in W) and (pair[1] in W):\n",
    "        S_wordpairs.append((pair[0], pair[1]))\n",
    "        S.append(pair[2])"
   ]
  },
  {
   "cell_type": "code",
   "execution_count": 52,
   "metadata": {},
   "outputs": [
    {
     "data": {
      "text/plain": [
       "65"
      ]
     },
     "execution_count": 52,
     "metadata": {},
     "output_type": "execute_result"
    }
   ],
   "source": [
    "len(S)"
   ]
  },
  {
   "cell_type": "code",
   "execution_count": 53,
   "metadata": {},
   "outputs": [],
   "source": [
    "from sklearn.metrics.pairwise import cosine_similarity"
   ]
  },
  {
   "cell_type": "code",
   "execution_count": 59,
   "metadata": {},
   "outputs": [
    {
     "data": {
      "text/plain": [
       "array([0., 0., 0., ..., 0., 0., 0.])"
      ]
     },
     "execution_count": 59,
     "metadata": {},
     "output_type": "execute_result"
    }
   ],
   "source": [
    "np.squeeze(np.asarray(ppmi_mat[0]))"
   ]
  },
  {
   "cell_type": "code",
   "execution_count": 60,
   "metadata": {},
   "outputs": [
    {
     "data": {
      "text/plain": [
       "array([ 5.88143912e+00, -1.07460625e+01, -5.79714494e+00, -1.59293813e+00,\n",
       "       -1.15316819e+00,  7.11825674e-01, -9.04783799e-01, -2.96382409e+00,\n",
       "       -1.36382463e+00,  1.63588216e-01, -2.14976347e+00,  1.40241156e+01,\n",
       "        7.48624699e+00, -1.84515205e+00,  4.06048729e+00,  1.44520615e+00,\n",
       "        6.93079391e+00,  1.59426529e+00,  8.52837741e+00, -1.00373155e+01,\n",
       "       -3.01486865e+00,  4.82539812e+00, -1.35469360e-01,  9.65781810e-01,\n",
       "       -7.09456691e-01, -1.28506154e+00,  4.94591912e-01,  2.08400471e-02,\n",
       "        6.90688643e+00,  2.31742646e+00, -6.84551022e+00,  1.59063439e+00,\n",
       "       -1.03446814e+00,  5.24990668e+00, -2.43547304e+00, -1.60295741e+01,\n",
       "       -9.92721233e-01, -1.07136711e+00, -3.74786582e-01,  2.28857509e-01,\n",
       "       -1.31011190e-01,  4.17646661e-02,  6.26180120e+00,  7.20451800e+00,\n",
       "       -2.49666060e+00,  4.10860106e+00, -1.07913601e+01, -1.51149664e+00,\n",
       "       -1.79883407e+00, -1.05024613e+01,  5.21691004e-01,  1.00495013e+00,\n",
       "        2.50736686e-01, -2.75629745e-01, -7.19135827e-01, -6.01984906e-01,\n",
       "        2.13874282e+00,  6.92645775e+00,  6.69789640e-01, -3.45425171e+00,\n",
       "       -3.50357222e-01, -3.27481721e+00, -8.52967997e+00, -3.03694856e+01,\n",
       "       -1.11726580e+00,  3.08016940e-01, -1.00301941e-01, -8.43528713e-01,\n",
       "       -2.42742186e-01, -4.29909434e-01, -6.51740085e+00, -3.43391261e+00,\n",
       "       -1.20006619e+01, -2.91170515e-01,  9.63499771e+00,  3.93687202e+00,\n",
       "        5.24415063e+00, -2.49761719e+01, -1.02528156e+00, -1.26429006e-01,\n",
       "       -2.77722365e-01, -5.47781614e-01,  1.17991599e+00,  1.22152333e-01,\n",
       "       -1.69590570e+01, -3.17676550e+00, -7.16767663e-01, -4.03988576e+00,\n",
       "       -1.85425234e+01,  1.58463914e+01, -2.13772195e+00, -8.63838818e+00,\n",
       "        1.51778545e-02, -4.17282119e-02, -6.31514533e-01,  2.92896097e-01,\n",
       "       -5.56261607e-01,  1.15397333e+00, -5.52147332e+00, -1.36631857e+00])"
      ]
     },
     "execution_count": 60,
     "metadata": {},
     "output_type": "execute_result"
    }
   ],
   "source": [
    "pca_100_mat[0]"
   ]
  },
  {
   "cell_type": "code",
   "execution_count": 66,
   "metadata": {},
   "outputs": [
    {
     "data": {
      "text/plain": [
       "0.0"
      ]
     },
     "execution_count": 66,
     "metadata": {},
     "output_type": "execute_result"
    }
   ],
   "source": [
    "cosine_similarity(ppmi_mat[1],ppmi_mat[2])[0][0]"
   ]
  },
  {
   "cell_type": "code",
   "execution_count": 65,
   "metadata": {},
   "outputs": [
    {
     "data": {
      "text/plain": [
       "array([[-0.08266554]])"
      ]
     },
     "execution_count": 65,
     "metadata": {},
     "output_type": "execute_result"
    }
   ],
   "source": [
    "cosine_similarity([pca_10_mat[1]],[pca_10_mat[2]])"
   ]
  },
  {
   "cell_type": "code",
   "execution_count": 54,
   "metadata": {},
   "outputs": [],
   "source": [
    "s_m1 = []\n",
    "s_m10 = []\n",
    "s_m100 = []\n",
    "s_m300 = []\n",
    "\n",
    "for i, pair in enumerate(S_wordpairs):\n",
    "    word_1, word_2 = pair\n",
    "    ind_1, ind_2 = W_ind[word_1], W_ind[word_2]\n",
    "    \n",
    "    #ppmi\n",
    "    s_m1.append(cosine_similarity(ppmi_mat[ind_1],ppmi_mat[ind_2])[0][0])\n",
    "    \n",
    "    s_m10.append(cosine_similarity([pca_10_mat[ind_1]], [pca_10_mat[ind_2]])[0][0])\n",
    "    \n",
    "    s_m100.append(cosine_similarity([pca_100_mat[ind_1]], [pca_100_mat[ind_2]])[0][0])\n",
    "    \n",
    "    s_m300.append(cosine_similarity([pca_300_mat[ind_1]], [pca_300_mat[ind_2]])[0][0])"
   ]
  },
  {
   "cell_type": "code",
   "execution_count": 55,
   "metadata": {},
   "outputs": [
    {
     "data": {
      "text/plain": [
       "(65, 65, 65, 65)"
      ]
     },
     "execution_count": 55,
     "metadata": {},
     "output_type": "execute_result"
    }
   ],
   "source": [
    "len(s_m1), len(s_m10), len(s_m100), len(s_m300)"
   ]
  },
  {
   "cell_type": "code",
   "execution_count": 56,
   "metadata": {},
   "outputs": [
    {
     "data": {
      "text/plain": [
       "7.884042627873097"
      ]
     },
     "execution_count": 56,
     "metadata": {},
     "output_type": "execute_result"
    }
   ],
   "source": [
    "np.sum(s_m300)"
   ]
  },
  {
   "cell_type": "code",
   "execution_count": 57,
   "metadata": {},
   "outputs": [],
   "source": [
    "from scipy.stats import pearsonr"
   ]
  },
  {
   "cell_type": "code",
   "execution_count": 58,
   "metadata": {},
   "outputs": [
    {
     "name": "stdout",
     "output_type": "stream",
     "text": [
      "(0.2615179404274942, 0.03535343086572421)\n"
     ]
    }
   ],
   "source": [
    "pr_m1 = pearsonr(S, s_m1)\n",
    "print(pr_m1)"
   ]
  },
  {
   "cell_type": "code",
   "execution_count": 59,
   "metadata": {},
   "outputs": [
    {
     "name": "stdout",
     "output_type": "stream",
     "text": [
      "(0.22107141760529064, 0.07677389636719839)\n"
     ]
    }
   ],
   "source": [
    "pr_m10 = pearsonr(S, s_m10)\n",
    "print(pr_m10)"
   ]
  },
  {
   "cell_type": "code",
   "execution_count": 60,
   "metadata": {},
   "outputs": [
    {
     "name": "stdout",
     "output_type": "stream",
     "text": [
      "(0.31660372780171003, 0.010185097713236545)\n"
     ]
    }
   ],
   "source": [
    "pr_m100 = pearsonr(S, s_m100)\n",
    "print(pr_m100)"
   ]
  },
  {
   "cell_type": "code",
   "execution_count": 61,
   "metadata": {},
   "outputs": [
    {
     "name": "stdout",
     "output_type": "stream",
     "text": [
      "(0.2548963046270159, 0.04044768152957874)\n"
     ]
    }
   ],
   "source": [
    "pr_m300 = pearsonr(S, s_m300)\n",
    "print(pr_m300)"
   ]
  },
  {
   "cell_type": "code",
   "execution_count": null,
   "metadata": {},
   "outputs": [],
   "source": []
  }
 ],
 "metadata": {
  "kernelspec": {
   "display_name": "Python 3",
   "language": "python",
   "name": "python3"
  },
  "language_info": {
   "codemirror_mode": {
    "name": "ipython",
    "version": 3
   },
   "file_extension": ".py",
   "mimetype": "text/x-python",
   "name": "python",
   "nbconvert_exporter": "python",
   "pygments_lexer": "ipython3",
   "version": "3.7.5"
  },
  "varInspector": {
   "cols": {
    "lenName": 16,
    "lenType": 16,
    "lenVar": 40
   },
   "kernels_config": {
    "python": {
     "delete_cmd_postfix": "",
     "delete_cmd_prefix": "del ",
     "library": "var_list.py",
     "varRefreshCmd": "print(var_dic_list())"
    },
    "r": {
     "delete_cmd_postfix": ") ",
     "delete_cmd_prefix": "rm(",
     "library": "var_list.r",
     "varRefreshCmd": "cat(var_dic_list()) "
    }
   },
   "types_to_exclude": [
    "module",
    "function",
    "builtin_function_or_method",
    "instance",
    "_Feature"
   ],
   "window_display": false
  }
 },
 "nbformat": 4,
 "nbformat_minor": 2
}
