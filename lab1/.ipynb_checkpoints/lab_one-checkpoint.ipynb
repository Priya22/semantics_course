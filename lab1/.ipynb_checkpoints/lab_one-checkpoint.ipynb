{
 "cells": [
  {
   "cell_type": "code",
   "execution_count": 1,
   "metadata": {},
   "outputs": [],
   "source": [
    "import gensim"
   ]
  },
  {
   "cell_type": "code",
   "execution_count": 2,
   "metadata": {},
   "outputs": [],
   "source": [
    "from gensim import models"
   ]
  },
  {
   "cell_type": "code",
   "execution_count": 3,
   "metadata": {},
   "outputs": [],
   "source": [
    "import numpy as np"
   ]
  },
  {
   "cell_type": "code",
   "execution_count": 4,
   "metadata": {},
   "outputs": [],
   "source": [
    "w2v = models.KeyedVectors.load_word2vec_format('./GoogleNews-vectors-negative300.bin', binary=True)"
   ]
  },
  {
   "cell_type": "code",
   "execution_count": 5,
   "metadata": {},
   "outputs": [],
   "source": [
    "from sklearn.metrics.pairwise import cosine_similarity, cosine_distances, euclidean_distances"
   ]
  },
  {
   "cell_type": "code",
   "execution_count": 6,
   "metadata": {},
   "outputs": [],
   "source": [
    "import pickle as pkl"
   ]
  },
  {
   "cell_type": "code",
   "execution_count": 7,
   "metadata": {},
   "outputs": [],
   "source": [
    "from collections import defaultdict"
   ]
  },
  {
   "cell_type": "code",
   "execution_count": 8,
   "metadata": {},
   "outputs": [],
   "source": [
    "from tqdm import tqdm"
   ]
  },
  {
   "cell_type": "code",
   "execution_count": 9,
   "metadata": {},
   "outputs": [],
   "source": [
    "from scipy.stats import pearsonr"
   ]
  },
  {
   "cell_type": "code",
   "execution_count": 10,
   "metadata": {},
   "outputs": [],
   "source": [
    "#Add RG65 words\n",
    "rg_data = [('cord', 'smile', 0.02), ('rooster', 'voyage', 0.04), ('noon', 'string', 0.04), ('fruit', 'furnace', 0.05),\n",
    "           ('autograph', 'shore', 0.06), ('automobile', 'wizard', 0.11), ('mound', 'stove', 0.14), ('grin', 'implement', 0.18),\n",
    "           ('asylum', 'fruit', 0.19), ('asylum', 'monk', 0.39), ('graveyard', 'madhouse', 0.42), ('glass', 'magician',0.44),\n",
    "          ('boy', 'rooster', 0.44), ('cushion', 'jewel', 0.45), ('monk', 'slave', 0.57), ('asylum', 'cemetery', 0.79), \n",
    "          ('coast', 'forest', 0.85), ('grin', 'lad', 0.88), ('shore', 'woodland', 0.90), ('monk', 'oracle', 0.91), ('boy', 'sage', 0.96),\n",
    "          ('automobile', 'cushion', 0.97), ('mound','shore',0.97), ('lad', 'wizard', 0.99), ('forest', 'graveyard', 1.0), \n",
    "          ('food', 'rooster', 1.09), ('cemetery', 'woodland', 1.18), ('shore', 'voyage', 1.22), ('bird', 'woodland', 1.24),\n",
    "          ('coast', 'hill', 1.26), ('furnace', 'implement', 1.37), ('crane', 'rooster', 1.41), ('hill', 'woodland', 1.48),\n",
    "          ('car', 'journey', 1.55), ('cemetery', 'mound', 1.69), ('glass', 'jewel', 1.78), ('magician', 'oracle', 1.82), \n",
    "          ('crane', 'implement', 2.37), ('brother', 'lad', 2.41), ('sage', 'wizard', 2.46), ('oracle', 'sage', 2.61), \n",
    "          ('bird', 'crane', 2.63), ('bird', 'cock', 2.63), ('food', 'fruit', 2.69), ('brother', 'monk', 2.74), ('asylum', 'madhouse', 3.04),\n",
    "          ('furnace', 'stove', 3.11), ('magician', 'wizard', 3.21), ('hill', 'mound', 3.29), ('cord', 'string', 3.41), \n",
    "          ('glass', 'tumbler', 3.45), ('grin', 'smile', 3.46), ('serf', 'slave', 3.46), ('journey', 'voyage', 3.58), \n",
    "          ('autograph', 'signature', 3.59), ('coast', 'shore', 3.60), ('forest', 'woodland', 3.65), ('implement', 'tool', 3.66),\n",
    "          ('cock', 'rooster', 3.68), ('boy', 'lad', 3.82), ('cushion', 'pillow', 3.84), ('cemetery', 'graveyard', 3.88), \n",
    "          ('automobile', 'car', 3.92), ('midday', 'noon', 3.94), ('gem', 'jewel', 3.94)] "
   ]
  },
  {
   "cell_type": "code",
   "execution_count": 11,
   "metadata": {},
   "outputs": [],
   "source": [
    "rg_words = []\n",
    "for pair in rg_data:\n",
    "    rg_words.extend([pair[0], pair[1]])\n",
    "rg_words = list(set(rg_words))"
   ]
  },
  {
   "cell_type": "code",
   "execution_count": 12,
   "metadata": {},
   "outputs": [
    {
     "name": "stdout",
     "output_type": "stream",
     "text": [
      "48\n"
     ]
    }
   ],
   "source": [
    "print(len(rg_words))"
   ]
  },
  {
   "cell_type": "code",
   "execution_count": 13,
   "metadata": {},
   "outputs": [],
   "source": [
    "embeddings = []\n",
    "for word in rg_words:\n",
    "    embeddings.append(w2v.get_vector(word))"
   ]
  },
  {
   "cell_type": "code",
   "execution_count": 14,
   "metadata": {},
   "outputs": [],
   "source": [
    "w2i = {}\n",
    "for i, w in enumerate(rg_words):\n",
    "    w2i[w] = i"
   ]
  },
  {
   "cell_type": "code",
   "execution_count": 15,
   "metadata": {},
   "outputs": [
    {
     "name": "stdout",
     "output_type": "stream",
     "text": [
      "48\n"
     ]
    }
   ],
   "source": [
    "print(len(embeddings))"
   ]
  },
  {
   "cell_type": "code",
   "execution_count": 16,
   "metadata": {},
   "outputs": [
    {
     "data": {
      "text/plain": [
       "(48, 300)"
      ]
     },
     "execution_count": 16,
     "metadata": {},
     "output_type": "execute_result"
    }
   ],
   "source": [
    "np.shape(embeddings)"
   ]
  },
  {
   "cell_type": "code",
   "execution_count": 14,
   "metadata": {},
   "outputs": [],
   "source": [
    "s1 = 'dog'\n",
    "s2 = 'cat'\n",
    "vec1 = w2v.get_vector(s1)\n",
    "vec2 = w2v.get_vector(s2)\n",
    "    \n",
    "sim1 = w2v.similarity(s1, s2)\n",
    "sim2 = w2v.cosine_similarities(vec1, [vec2])"
   ]
  },
  {
   "cell_type": "code",
   "execution_count": 15,
   "metadata": {},
   "outputs": [
    {
     "name": "stdout",
     "output_type": "stream",
     "text": [
      "0.7609457089782209\n"
     ]
    }
   ],
   "source": [
    "print(sim1)"
   ]
  },
  {
   "cell_type": "code",
   "execution_count": 16,
   "metadata": {},
   "outputs": [
    {
     "name": "stdout",
     "output_type": "stream",
     "text": [
      "[0.76094574]\n"
     ]
    }
   ],
   "source": [
    "print(sim2)"
   ]
  },
  {
   "cell_type": "code",
   "execution_count": 17,
   "metadata": {},
   "outputs": [],
   "source": [
    "cosine_sims = []\n",
    "human_sims = []\n",
    "\n",
    "for pair in rg_data:\n",
    "    cosine_sim = w2v.similarity(pair[0], pair[1])\n",
    "    cosine_sims.append(cosine_sim)\n",
    "    \n",
    "    human_sims.append(pair[2])"
   ]
  },
  {
   "cell_type": "code",
   "execution_count": 18,
   "metadata": {},
   "outputs": [],
   "source": [
    "from scipy.stats import pearsonr"
   ]
  },
  {
   "cell_type": "code",
   "execution_count": 19,
   "metadata": {},
   "outputs": [
    {
     "name": "stdout",
     "output_type": "stream",
     "text": [
      "(0.7720616150731, 5.0910642245118356e-14)\n"
     ]
    }
   ],
   "source": [
    "pr_wv = pearsonr(cosine_sims, human_sims)\n",
    "print(pr_wv)"
   ]
  },
  {
   "cell_type": "code",
   "execution_count": 20,
   "metadata": {},
   "outputs": [],
   "source": [
    "#word analogies\n",
    "with open('word-test.v1.txt', 'r') as f:\n",
    "    lines = f.readlines()\n",
    "lines = [x.strip() for x in lines]"
   ]
  },
  {
   "cell_type": "code",
   "execution_count": 21,
   "metadata": {},
   "outputs": [
    {
     "data": {
      "text/plain": [
       "19559"
      ]
     },
     "execution_count": 21,
     "metadata": {},
     "output_type": "execute_result"
    }
   ],
   "source": [
    "len(lines)"
   ]
  },
  {
   "cell_type": "code",
   "execution_count": null,
   "metadata": {},
   "outputs": [],
   "source": [
    "lines[:5]"
   ]
  },
  {
   "cell_type": "code",
   "execution_count": 22,
   "metadata": {},
   "outputs": [],
   "source": [
    "lines = lines[1:]"
   ]
  },
  {
   "cell_type": "code",
   "execution_count": 23,
   "metadata": {},
   "outputs": [
    {
     "data": {
      "text/plain": [
       "' capital-common-countries'"
      ]
     },
     "execution_count": 23,
     "metadata": {},
     "output_type": "execute_result"
    }
   ],
   "source": [
    "lines[0][1:]"
   ]
  },
  {
   "cell_type": "code",
   "execution_count": 24,
   "metadata": {},
   "outputs": [],
   "source": [
    "cat_pairs = {}\n",
    "for line in lines:\n",
    "    if line[0] == ':':\n",
    "        category = line[1:].strip()\n",
    "        if category not in cat_pairs:\n",
    "            cat_pairs[category] = []\n",
    "    else:\n",
    "        w1, w2, w3, w4 = line.split(\" \")\n",
    "        cat_pairs[category].append([(w1, w2), (w3,w4)])\n",
    "        \n",
    "        "
   ]
  },
  {
   "cell_type": "code",
   "execution_count": 25,
   "metadata": {},
   "outputs": [
    {
     "data": {
      "text/plain": [
       "dict_keys(['capital-common-countries', 'capital-world', 'currency', 'city-in-state', 'family', 'gram1-adjective-to-adverb', 'gram2-opposite', 'gram3-comparative', 'gram4-superlative', 'gram5-present-participle', 'gram6-nationality-adjective', 'gram7-past-tense', 'gram8-plural', 'gram9-plural-verbs'])"
      ]
     },
     "execution_count": 25,
     "metadata": {},
     "output_type": "execute_result"
    }
   ],
   "source": [
    "cat_pairs.keys()"
   ]
  },
  {
   "cell_type": "code",
   "execution_count": 26,
   "metadata": {},
   "outputs": [
    {
     "name": "stdout",
     "output_type": "stream",
     "text": [
      "['capital-common-countries', 'capital-world', 'currency', 'city-in-state', 'family', 'gram1-adjective-to-adverb', 'gram2-opposite', 'gram3-comparative', 'gram4-superlative', 'gram5-present-participle', 'gram6-nationality-adjective', 'gram7-past-tense', 'gram8-plural', 'gram9-plural-verbs']\n"
     ]
    }
   ],
   "source": [
    "cat_keys = list(cat_pairs.keys())\n",
    "print(cat_keys)"
   ]
  },
  {
   "cell_type": "code",
   "execution_count": 27,
   "metadata": {},
   "outputs": [],
   "source": [
    "cat_types = {}\n",
    "for i, cat in enumerate(cat_keys):\n",
    "    if i < 5:\n",
    "        cat_types[cat] = 'semantic'\n",
    "    else:\n",
    "        cat_types[cat] = 'syntactic'\n",
    "    "
   ]
  },
  {
   "cell_type": "code",
   "execution_count": 96,
   "metadata": {},
   "outputs": [
    {
     "name": "stdout",
     "output_type": "stream",
     "text": [
      "(5031, 300)\n"
     ]
    }
   ],
   "source": [
    "#LSA300\n",
    "lsa_300 = pkl.load(open('../lab0/pca_300_mat.pkl', 'rb'))\n",
    "print(lsa_300.shape)"
   ]
  },
  {
   "cell_type": "code",
   "execution_count": 30,
   "metadata": {},
   "outputs": [
    {
     "name": "stdout",
     "output_type": "stream",
     "text": [
      "5031\n"
     ]
    }
   ],
   "source": [
    "lsa_w2i = pkl.load(open('../lab0/w2ind.pkl', 'rb'))\n",
    "print(len(lsa_w2i))"
   ]
  },
  {
   "cell_type": "code",
   "execution_count": 31,
   "metadata": {},
   "outputs": [],
   "source": [
    "lsa_i2w = {}\n",
    "for w, i in lsa_w2i.items():\n",
    "    lsa_i2w[i] = w"
   ]
  },
  {
   "cell_type": "code",
   "execution_count": 107,
   "metadata": {},
   "outputs": [],
   "source": [
    "#save to file\n",
    "with open('lsa_300.txt', 'w') as f:\n",
    "    print(len(lsa_w2i), 300, file=f)\n",
    "    for word, ind in lsa_w2i.items():\n",
    "        print(word, end=\" \", file = f)\n",
    "        for num in lsa_300[ind]:\n",
    "            print(num, end =\" \", file = f)\n",
    "        print(\"\\n\", end = \"\", file = f)\n"
   ]
  },
  {
   "cell_type": "code",
   "execution_count": 28,
   "metadata": {},
   "outputs": [],
   "source": [
    "lsa2vec = gensim.models.KeyedVectors.load_word2vec_format('./lsa_300.txt', binary=False)"
   ]
  },
  {
   "cell_type": "code",
   "execution_count": 109,
   "metadata": {},
   "outputs": [
    {
     "data": {
      "text/plain": [
       "'grow'"
      ]
     },
     "execution_count": 109,
     "metadata": {},
     "output_type": "execute_result"
    }
   ],
   "source": [
    "lsa_i2w[0]"
   ]
  },
  {
   "cell_type": "code",
   "execution_count": 110,
   "metadata": {},
   "outputs": [
    {
     "name": "stdout",
     "output_type": "stream",
     "text": [
      "(300,) (300,)\n"
     ]
    }
   ],
   "source": [
    "v1 = lsa2vec.get_vector('grow')\n",
    "v2 = lsa_300[0]\n",
    "print(np.shape(v1), np.shape(v2))"
   ]
  },
  {
   "cell_type": "code",
   "execution_count": null,
   "metadata": {},
   "outputs": [],
   "source": []
  },
  {
   "cell_type": "code",
   "execution_count": null,
   "metadata": {},
   "outputs": [],
   "source": []
  },
  {
   "cell_type": "code",
   "execution_count": null,
   "metadata": {},
   "outputs": [],
   "source": []
  },
  {
   "cell_type": "code",
   "execution_count": null,
   "metadata": {},
   "outputs": [],
   "source": []
  },
  {
   "cell_type": "code",
   "execution_count": null,
   "metadata": {},
   "outputs": [],
   "source": []
  },
  {
   "cell_type": "code",
   "execution_count": null,
   "metadata": {},
   "outputs": [],
   "source": [
    "#get cosine similarity matrix\n",
    "lsa_sims = cosine_similarity([lsa_300[0]], lsa_300)"
   ]
  },
  {
   "cell_type": "code",
   "execution_count": null,
   "metadata": {},
   "outputs": [],
   "source": [
    "print(lsa_sims.shape)"
   ]
  },
  {
   "cell_type": "code",
   "execution_count": null,
   "metadata": {},
   "outputs": [],
   "source": [
    "lsa_sims[0][0], lsa_sims[0][10]"
   ]
  },
  {
   "cell_type": "code",
   "execution_count": null,
   "metadata": {},
   "outputs": [],
   "source": [
    "np.argmax(lsa_sims[0][1:])"
   ]
  },
  {
   "cell_type": "code",
   "execution_count": 62,
   "metadata": {},
   "outputs": [
    {
     "data": {
      "text/plain": [
       "('grow', 'freight', \"world's\")"
      ]
     },
     "execution_count": 62,
     "metadata": {},
     "output_type": "execute_result"
    }
   ],
   "source": [
    "lsa_i2w[0], lsa_i2w[20], lsa_i2w[22]"
   ]
  },
  {
   "cell_type": "code",
   "execution_count": 60,
   "metadata": {},
   "outputs": [
    {
     "data": {
      "text/plain": [
       "(300,)"
      ]
     },
     "execution_count": 60,
     "metadata": {},
     "output_type": "execute_result"
    }
   ],
   "source": [
    "res = lsa_300[0] + lsa_300[20] - lsa_300[22]\n",
    "res.shape"
   ]
  },
  {
   "cell_type": "code",
   "execution_count": 33,
   "metadata": {},
   "outputs": [
    {
     "data": {
      "text/plain": [
       "(300,)"
      ]
     },
     "execution_count": 33,
     "metadata": {},
     "output_type": "execute_result"
    }
   ],
   "source": [
    "res = embeddings[0] + embeddings[20] - embeddings[22]\n",
    "res.shape"
   ]
  },
  {
   "cell_type": "markdown",
   "metadata": {},
   "source": [
    "# Commented"
   ]
  },
  {
   "cell_type": "raw",
   "metadata": {},
   "source": [
    "def get_closest_lsa(vector, forbidden = []):\n",
    "    sims = cosine_similarity([vector], lsa_300)\n",
    "    arg = np.argsort(sims[0])[::-1]\n",
    "    for i in arg:\n",
    "        if i not in forbidden:\n",
    "            return lsa_i2w[i]"
   ]
  },
  {
   "cell_type": "raw",
   "metadata": {},
   "source": [
    "get_closest_lsa(res)"
   ]
  },
  {
   "cell_type": "raw",
   "metadata": {},
   "source": [
    "w2v.most_similar(positive=['king', 'woman'], negative=['man'], topn=1)"
   ]
  },
  {
   "cell_type": "raw",
   "metadata": {},
   "source": [
    "sem_pairs = []\n",
    "syn_pairs = []\n",
    "\n",
    "w2v_acc = defaultdict(list)\n",
    "lsa_acc = defaultdict(list)\n",
    "\n",
    "for key, pairs in tqdm(cat_pairs.items()):\n",
    "    \n",
    "    cat = cat_types[key]\n",
    "    \n",
    "    for pair in tqdm(pairs):\n",
    "        w1, w2 = pair[0]\n",
    "        w3, w4 = pair[1]\n",
    "        \n",
    "        if (w1 in lsa_w2i) and (w2 in lsa_w2i) and (w3 in lsa_w2i) and (w4 in lsa_w2i):\n",
    "            if cat == 'semantic':\n",
    "                sem_pairs.append([(w1, w2), (w3, w4)])\n",
    "            else:\n",
    "                syn_pairs.append([(w1, w2), (w3, w4)])\n",
    "            \n",
    "            #w2v\n",
    "            res_word = w2v.most_similar(positive=[w3, w2], negative=[w1], topn=1)\n",
    "            if res_word[0][0] == w4:\n",
    "                w2v_acc[key].append(1)\n",
    "            else:\n",
    "                w2v_acc[key].append(0)\n",
    "                \n",
    "            \n",
    "            #lsa\n",
    "            #embs \n",
    "            e1 = lsa_300[lsa_w2i[w1]]\n",
    "            e2 = lsa_300[lsa_w2i[w2]]\n",
    "            e3 = lsa_300[lsa_w2i[w3]]\n",
    "            \n",
    "            res_vec = e3 + e2 - e1\n",
    "            res_word = get_closest_lsa(res_vec)\n",
    "            \n",
    "            if res_word == w4:\n",
    "                lsa_acc[key].append(1)\n",
    "            else:\n",
    "                lsa_acc[key].append(0)\n",
    "            "
   ]
  },
  {
   "cell_type": "raw",
   "metadata": {},
   "source": [
    "print(len(syn_pairs), len(sem_pairs))"
   ]
  },
  {
   "cell_type": "raw",
   "metadata": {},
   "source": [
    "total = 0\n",
    "correct = 0\n",
    "for cat, scores in w2v_acc.items():\n",
    "    print(cat, len(scores), np.sum(scores), np.sum(scores)/len(scores), sep='\\t')\n",
    "    total += len(scores)\n",
    "    correct += np.sum(scores)\n",
    "print(\"Total: \", total, correct, correct/total, sep='\\t')"
   ]
  },
  {
   "cell_type": "raw",
   "metadata": {},
   "source": [
    "total = 0\n",
    "correct = 0\n",
    "for cat, scores in lsa_acc.items():\n",
    "    print(cat, len(scores), np.sum(scores), np.sum(scores)/len(scores), sep='\\t')\n",
    "    total += len(scores)\n",
    "    correct += np.sum(scores)\n",
    "print(\"Total: \", total, correct, correct/total, sep='\\t')"
   ]
  },
  {
   "cell_type": "raw",
   "metadata": {},
   "source": [
    "sem_pairs[:5]"
   ]
  },
  {
   "cell_type": "raw",
   "metadata": {},
   "source": [
    "syn_pairs[:5]"
   ]
  },
  {
   "cell_type": "raw",
   "metadata": {},
   "source": [
    "pair = syn_pairs[0]\n",
    "w1, w2 = pair[0]\n",
    "w3, w4 = pair[1]\n",
    "e1 = lsa_300[lsa_w2i[w1]]\n",
    "e2 = lsa_300[lsa_w2i[w2]]\n",
    "e3 = lsa_300[lsa_w2i[w3]]\n",
    "res_vec = e3 + e2 - e1\n",
    "res_word = get_closest_lsa(res_vec)"
   ]
  },
  {
   "cell_type": "raw",
   "metadata": {},
   "source": [
    "res_word"
   ]
  },
  {
   "cell_type": "raw",
   "metadata": {},
   "source": [
    "act_vec = lsa_300[lsa_w2i['apparent']]\n",
    "vec2 = lsa_300[lsa_w2i['apparently']]"
   ]
  },
  {
   "cell_type": "raw",
   "metadata": {},
   "source": [
    "cosine_similarity([res_vec], [act_vec])"
   ]
  },
  {
   "cell_type": "raw",
   "metadata": {},
   "source": [
    "cosine_similarity([act_vec], [vec2])"
   ]
  },
  {
   "cell_type": "markdown",
   "metadata": {},
   "source": [
    "## End Comments"
   ]
  },
  {
   "cell_type": "markdown",
   "metadata": {},
   "source": [
    "## Analogy"
   ]
  },
  {
   "cell_type": "code",
   "execution_count": 32,
   "metadata": {},
   "outputs": [
    {
     "name": "stderr",
     "output_type": "stream",
     "text": [
      "  0%|          | 0/14 [00:00<?, ?it/s]\n",
      "  0%|          | 0/506 [00:00<?, ?it/s]\u001b[A\n",
      " 19%|█▉        | 97/506 [00:05<00:24, 16.50it/s]\u001b[A\n",
      " 20%|█▉        | 99/506 [00:06<00:24, 16.44it/s]\u001b[A\n",
      " 20%|██        | 102/506 [00:06<00:24, 16.54it/s]\u001b[A\n",
      " 21%|██        | 104/506 [00:06<00:24, 16.50it/s]\u001b[A\n",
      " 57%|█████▋    | 288/506 [00:06<00:04, 44.69it/s]\u001b[A\n",
      " 65%|██████▌   | 329/506 [00:06<00:03, 48.02it/s]\u001b[A\n",
      "  7%|▋         | 1/14 [00:06<01:29,  6.86s/it]/s]\u001b[A\n",
      "  0%|          | 0/4524 [00:00<?, ?it/s]\u001b[A\n",
      " 53%|█████▎    | 2391/4524 [00:00<00:00, 15326.07it/s]\u001b[A\n",
      " 63%|██████▎   | 2853/4524 [00:00<00:00, 7133.23it/s] \u001b[A\n",
      " 14%|█▍        | 2/14 [00:07<00:43,  3.63s/it].90it/s]\u001b[A\n",
      "  0%|          | 0/866 [00:00<?, ?it/s]\u001b[A\n",
      "100%|██████████| 866/866 [00:00<00:00, 446608.54it/s]\u001b[A\n",
      "  0%|          | 0/2467 [00:00<?, ?it/s]\u001b[A\n",
      "  0%|          | 1/2467 [00:00<04:59,  8.23it/s]\u001b[A\n",
      "  0%|          | 2/2467 [00:00<05:31,  7.44it/s]\u001b[A\n",
      "  0%|          | 4/2467 [00:00<04:13,  9.70it/s]\u001b[A\n",
      "  0%|          | 8/2467 [00:00<02:46, 14.79it/s]\u001b[A\n",
      "  0%|          | 10/2467 [00:00<03:13, 12.70it/s]\u001b[A\n",
      "  1%|          | 13/2467 [00:00<02:58, 13.72it/s]\u001b[A\n",
      "  1%|          | 22/2467 [00:01<01:58, 20.69it/s]\u001b[A\n",
      "  1%|▏         | 35/2467 [00:01<01:23, 29.21it/s]\u001b[A\n",
      "  2%|▏         | 41/2467 [00:01<01:20, 29.96it/s]\u001b[A\n",
      "  2%|▏         | 46/2467 [00:01<01:31, 26.51it/s]\u001b[A\n",
      "  2%|▏         | 50/2467 [00:01<01:31, 26.37it/s]\u001b[A\n",
      "  2%|▏         | 58/2467 [00:02<01:24, 28.40it/s]\u001b[A\n",
      "  3%|▎         | 70/2467 [00:02<01:16, 31.38it/s]\u001b[A\n",
      "  3%|▎         | 77/2467 [00:02<01:14, 31.98it/s]\u001b[A\n",
      "  3%|▎         | 82/2467 [00:02<01:14, 32.05it/s]\u001b[A\n",
      "  4%|▎         | 87/2467 [00:02<01:18, 30.38it/s]\u001b[A\n",
      "  4%|▍         | 95/2467 [00:02<01:14, 31.73it/s]\u001b[A\n",
      "  6%|▌         | 153/2467 [00:03<00:47, 48.85it/s]\u001b[A\n",
      "  7%|▋         | 169/2467 [00:03<00:48, 47.19it/s]\u001b[A\n",
      "  7%|▋         | 181/2467 [00:03<00:47, 48.56it/s]\u001b[A\n",
      " 12%|█▏        | 299/2467 [00:03<00:28, 77.18it/s]\u001b[A\n",
      " 13%|█▎        | 331/2467 [00:04<00:27, 76.95it/s]\u001b[A\n",
      " 15%|█▌        | 377/2467 [00:04<00:24, 84.61it/s]\u001b[A\n",
      " 16%|█▋        | 404/2467 [00:04<00:24, 84.97it/s]\u001b[A\n",
      " 20%|██        | 500/2467 [00:04<00:19, 101.28it/s]\u001b[A\n",
      " 22%|██▏       | 531/2467 [00:05<00:18, 104.12it/s]\u001b[A\n",
      " 34%|███▎      | 831/2467 [00:05<00:10, 157.77it/s]\u001b[A\n",
      " 53%|█████▎    | 1318/2467 [00:05<00:04, 243.08it/s]\u001b[A\n",
      " 59%|█████▉    | 1463/2467 [00:05<00:03, 256.08it/s]\u001b[A\n",
      " 29%|██▊       | 4/14 [00:12<00:32,  3.25s/it]7it/s]\u001b[A\n",
      "  0%|          | 0/506 [00:00<?, ?it/s]\u001b[A\n",
      "  0%|          | 1/506 [00:00<01:33,  5.43it/s]\u001b[A\n",
      "  1%|          | 4/506 [00:00<00:43, 11.43it/s]\u001b[A\n",
      "  2%|▏         | 9/506 [00:00<00:28, 17.19it/s]\u001b[A\n",
      "  2%|▏         | 11/506 [00:00<00:43, 11.36it/s]\u001b[A\n",
      "  3%|▎         | 13/506 [00:01<00:41, 11.75it/s]\u001b[A\n",
      "  3%|▎         | 17/506 [00:01<00:36, 13.44it/s]\u001b[A\n",
      "  5%|▍         | 25/506 [00:01<00:27, 17.70it/s]\u001b[A\n",
      "  6%|▌         | 30/506 [00:01<00:24, 19.34it/s]\u001b[A\n",
      "  7%|▋         | 33/506 [00:01<00:26, 18.08it/s]\u001b[A\n",
      "  7%|▋         | 36/506 [00:01<00:25, 18.28it/s]\u001b[A\n",
      "  8%|▊         | 39/506 [00:02<00:25, 18.58it/s]\u001b[A\n",
      "  9%|▊         | 44/506 [00:02<00:23, 19.54it/s]\u001b[A\n",
      " 18%|█▊        | 93/506 [00:02<00:10, 38.91it/s]\u001b[A\n",
      " 21%|██        | 106/506 [00:02<00:11, 35.53it/s]\u001b[A\n",
      " 23%|██▎       | 116/506 [00:03<00:10, 35.53it/s]\u001b[A\n",
      " 39%|███▉      | 199/506 [00:03<00:05, 57.78it/s]\u001b[A\n",
      " 43%|████▎     | 219/506 [00:04<00:05, 50.65it/s]\u001b[A\n",
      " 46%|████▌     | 234/506 [00:05<00:05, 45.70it/s]\u001b[A\n",
      " 48%|████▊     | 245/506 [00:05<00:05, 44.51it/s]\u001b[A\n",
      " 50%|█████     | 254/506 [00:05<00:05, 43.71it/s]\u001b[A\n",
      " 52%|█████▏    | 261/506 [00:06<00:05, 42.11it/s]\u001b[A\n",
      " 53%|█████▎    | 267/506 [00:06<00:05, 41.03it/s]\u001b[A\n",
      " 57%|█████▋    | 290/506 [00:06<00:04, 43.33it/s]\u001b[A\n",
      " 59%|█████▊    | 297/506 [00:07<00:04, 42.38it/s]\u001b[A\n",
      " 60%|█████▉    | 303/506 [00:07<00:04, 42.40it/s]\u001b[A\n",
      " 61%|██████    | 309/506 [00:07<00:04, 40.88it/s]\u001b[A\n",
      " 75%|███████▌  | 380/506 [00:07<00:02, 49.18it/s]\u001b[A\n",
      " 78%|███████▊  | 396/506 [00:08<00:02, 46.07it/s]\u001b[A\n",
      " 36%|███▌      | 5/14 [00:21<00:38,  4.32s/it]/s]\u001b[A\n",
      "  0%|          | 0/992 [00:00<?, ?it/s]\u001b[A\n",
      "  3%|▎         | 34/992 [00:00<00:03, 254.41it/s]\u001b[A\n",
      "  4%|▍         | 42/992 [00:00<00:08, 107.38it/s]\u001b[A\n",
      "  5%|▍         | 49/992 [00:01<00:23, 40.57it/s] \u001b[A\n",
      "  5%|▌         | 54/992 [00:01<00:27, 33.91it/s]\u001b[A\n",
      "  6%|▌         | 58/992 [00:02<00:33, 28.19it/s]\u001b[A\n",
      "  6%|▌         | 61/992 [00:02<00:33, 27.71it/s]\u001b[A\n",
      " 13%|█▎        | 127/992 [00:02<00:16, 53.97it/s]\u001b[A\n",
      " 14%|█▍        | 143/992 [00:03<00:22, 37.56it/s]\u001b[A\n",
      " 16%|█▌        | 154/992 [00:04<00:24, 34.85it/s]\u001b[A\n",
      " 22%|██▏       | 220/992 [00:04<00:15, 48.37it/s]\u001b[A\n",
      " 24%|██▍       | 242/992 [00:06<00:20, 35.90it/s]\u001b[A\n",
      " 26%|██▌       | 258/992 [00:06<00:19, 36.88it/s]\u001b[A\n",
      " 32%|███▏      | 313/992 [00:07<00:15, 43.91it/s]\u001b[A\n",
      " 34%|███▎      | 334/992 [00:08<00:17, 37.66it/s]\u001b[A\n",
      " 35%|███▌      | 350/992 [00:09<00:16, 38.08it/s]\u001b[A\n",
      " 41%|████      | 404/992 [00:09<00:13, 43.40it/s]\u001b[A\n",
      " 43%|████▎     | 427/992 [00:11<00:15, 37.45it/s]\u001b[A\n",
      " 45%|████▍     | 443/992 [00:12<00:15, 35.08it/s]\u001b[A\n",
      " 46%|████▌     | 455/992 [00:13<00:15, 34.15it/s]\u001b[A\n",
      " 47%|████▋     | 464/992 [00:13<00:15, 33.66it/s]\u001b[A\n",
      " 47%|████▋     | 471/992 [00:14<00:16, 32.19it/s]\u001b[A\n",
      " 48%|████▊     | 476/992 [00:15<00:16, 31.65it/s]\u001b[A\n",
      " 48%|████▊     | 480/992 [00:15<00:16, 31.59it/s]\u001b[A\n",
      " 49%|████▉     | 484/992 [00:15<00:16, 31.13it/s]\u001b[A\n",
      " 49%|████▉     | 487/992 [00:15<00:16, 31.03it/s]\u001b[A\n",
      " 49%|████▉     | 490/992 [00:15<00:16, 30.85it/s]\u001b[A\n",
      " 50%|████▉     | 493/992 [00:16<00:16, 30.75it/s]\u001b[A\n",
      " 50%|█████     | 496/992 [00:16<00:16, 30.35it/s]\u001b[A\n",
      " 50%|█████     | 498/992 [00:16<00:16, 30.21it/s]\u001b[A\n",
      " 50%|█████     | 500/992 [00:16<00:16, 29.85it/s]\u001b[A\n",
      " 51%|█████     | 502/992 [00:17<00:16, 29.42it/s]\u001b[A\n",
      " 51%|█████     | 505/992 [00:17<00:16, 29.32it/s]\u001b[A\n",
      " 51%|█████     | 507/992 [00:17<00:16, 28.91it/s]\u001b[A\n",
      " 52%|█████▏    | 511/992 [00:17<00:16, 28.88it/s]\u001b[A\n",
      " 52%|█████▏    | 513/992 [00:17<00:16, 28.70it/s]\u001b[A\n",
      " 52%|█████▏    | 516/992 [00:18<00:16, 28.60it/s]\u001b[A\n",
      " 52%|█████▏    | 519/992 [00:18<00:16, 28.53it/s]\u001b[A\n",
      " 53%|█████▎    | 522/992 [00:18<00:16, 28.51it/s]\u001b[A\n",
      " 53%|█████▎    | 525/992 [00:18<00:16, 28.47it/s]\u001b[A\n",
      " 53%|█████▎    | 528/992 [00:18<00:16, 28.27it/s]\u001b[A\n",
      " 53%|█████▎    | 530/992 [00:18<00:16, 27.94it/s]\u001b[A\n",
      " 54%|█████▎    | 532/992 [00:19<00:16, 27.66it/s]\u001b[A\n",
      " 54%|█████▍    | 535/992 [00:19<00:16, 27.57it/s]\u001b[A\n",
      " 54%|█████▍    | 537/992 [00:19<00:16, 27.29it/s]\u001b[A\n",
      " 55%|█████▍    | 541/992 [00:19<00:16, 27.29it/s]\u001b[A\n",
      " 55%|█████▍    | 543/992 [00:19<00:16, 27.19it/s]\u001b[A\n",
      " 55%|█████▌    | 546/992 [00:20<00:16, 27.14it/s]\u001b[A\n",
      " 55%|█████▌    | 549/992 [00:20<00:16, 27.09it/s]\u001b[A\n",
      " 56%|█████▌    | 552/992 [00:20<00:16, 27.04it/s]\u001b[A\n",
      " 56%|█████▌    | 555/992 [00:20<00:16, 27.00it/s]\u001b[A\n",
      " 56%|█████▌    | 557/992 [00:20<00:16, 26.75it/s]\u001b[A\n",
      " 56%|█████▋    | 559/992 [00:21<00:16, 26.61it/s]\u001b[A\n",
      " 59%|█████▉    | 590/992 [00:21<00:14, 27.91it/s]\u001b[A\n",
      " 60%|██████    | 599/992 [00:21<00:14, 27.38it/s]\u001b[A\n",
      " 61%|██████    | 606/992 [00:22<00:14, 27.16it/s]\u001b[A\n",
      " 62%|██████▏   | 611/992 [00:22<00:13, 27.24it/s]\u001b[A\n",
      " 62%|██████▏   | 616/992 [00:22<00:13, 26.96it/s]\u001b[A\n",
      " 62%|██████▎   | 620/992 [00:23<00:13, 26.62it/s]\u001b[A\n",
      " 63%|██████▎   | 623/992 [00:23<00:13, 26.43it/s]\u001b[A\n",
      " 63%|██████▎   | 626/992 [00:23<00:13, 26.22it/s]\u001b[A\n",
      " 63%|██████▎   | 628/992 [00:24<00:13, 26.16it/s]\u001b[A\n",
      " 64%|██████▎   | 631/992 [00:24<00:13, 26.15it/s]\u001b[A\n",
      " 64%|██████▍   | 633/992 [00:24<00:13, 26.09it/s]\u001b[A\n",
      " 64%|██████▍   | 636/992 [00:24<00:13, 26.07it/s]\u001b[A\n",
      " 64%|██████▍   | 639/992 [00:24<00:13, 26.05it/s]\u001b[A\n",
      " 65%|██████▍   | 642/992 [00:24<00:13, 26.02it/s]\u001b[A\n",
      " 65%|██████▌   | 645/992 [00:24<00:13, 25.99it/s]\u001b[A\n",
      " 65%|██████▌   | 648/992 [00:25<00:13, 25.69it/s]\u001b[A\n",
      " 66%|██████▌   | 650/992 [00:25<00:13, 25.63it/s]\u001b[A\n",
      " 66%|██████▌   | 652/992 [00:25<00:13, 25.38it/s]\u001b[A\n",
      " 66%|██████▌   | 655/992 [00:25<00:13, 25.34it/s]\u001b[A\n",
      " 66%|██████▌   | 657/992 [00:26<00:13, 25.07it/s]\u001b[A\n",
      " 67%|██████▋   | 661/992 [00:26<00:13, 25.07it/s]\u001b[A\n",
      " 67%|██████▋   | 663/992 [00:26<00:13, 24.97it/s]\u001b[A\n",
      " 67%|██████▋   | 666/992 [00:26<00:13, 24.89it/s]\u001b[A\n",
      " 67%|██████▋   | 669/992 [00:26<00:12, 24.86it/s]\u001b[A\n",
      " 68%|██████▊   | 672/992 [00:27<00:12, 24.85it/s]\u001b[A\n",
      " 68%|██████▊   | 675/992 [00:27<00:12, 24.85it/s]\u001b[A\n",
      " 68%|██████▊   | 677/992 [00:27<00:12, 24.68it/s]\u001b[A\n",
      " 68%|██████▊   | 679/992 [00:27<00:12, 24.50it/s]\u001b[A\n",
      " 69%|██████▊   | 681/992 [00:27<00:12, 24.45it/s]\u001b[A\n",
      " 69%|██████▉   | 683/992 [00:27<00:12, 24.40it/s]\u001b[A\n",
      " 69%|██████▉   | 685/992 [00:28<00:12, 24.36it/s]\u001b[A\n",
      " 69%|██████▉   | 687/992 [00:28<00:12, 24.17it/s]\u001b[A\n",
      " 70%|██████▉   | 691/992 [00:28<00:12, 24.19it/s]\u001b[A\n",
      " 70%|██████▉   | 693/992 [00:28<00:12, 24.15it/s]\u001b[A\n",
      " 70%|███████   | 696/992 [00:28<00:12, 24.12it/s]\u001b[A\n",
      " 70%|███████   | 699/992 [00:29<00:12, 24.10it/s]\u001b[A\n",
      " 71%|███████   | 702/992 [00:29<00:12, 24.10it/s]\u001b[A\n",
      " 71%|███████   | 705/992 [00:29<00:11, 24.10it/s]\u001b[A\n",
      " 71%|███████▏  | 708/992 [00:29<00:11, 23.88it/s]\u001b[A\n",
      " 72%|███████▏  | 710/992 [00:29<00:11, 23.83it/s]\u001b[A\n",
      " 72%|███████▏  | 712/992 [00:30<00:11, 23.67it/s]\u001b[A\n",
      " 72%|███████▏  | 714/992 [00:30<00:11, 23.64it/s]\u001b[A\n",
      " 78%|███████▊  | 776/992 [00:30<00:08, 25.58it/s]\u001b[A\n",
      " 80%|███████▉  | 791/992 [00:31<00:07, 25.47it/s]\u001b[A\n",
      " 81%|████████  | 803/992 [00:32<00:07, 24.69it/s]\u001b[A\n",
      " 82%|████████▏ | 811/992 [00:33<00:07, 24.57it/s]\u001b[A\n",
      " 82%|████████▏ | 818/992 [00:33<00:07, 24.57it/s]\u001b[A\n",
      " 83%|████████▎ | 824/992 [00:33<00:06, 24.57it/s]\u001b[A\n",
      " 84%|████████▎ | 829/992 [00:34<00:06, 24.23it/s]\u001b[A\n",
      " 84%|████████▍ | 833/992 [00:34<00:06, 24.05it/s]\u001b[A\n",
      " 84%|████████▍ | 836/992 [00:34<00:06, 24.03it/s]\u001b[A\n",
      " 85%|████████▍ | 839/992 [00:34<00:06, 24.04it/s]\u001b[A\n",
      " 85%|████████▍ | 842/992 [00:35<00:06, 24.01it/s]\u001b[A\n",
      " 85%|████████▌ | 845/992 [00:35<00:06, 23.98it/s]\u001b[A\n",
      " 85%|████████▌ | 848/992 [00:35<00:06, 23.97it/s]\u001b[A\n",
      " 86%|████████▌ | 851/992 [00:35<00:05, 23.96it/s]\u001b[A\n",
      " 86%|████████▌ | 854/992 [00:35<00:05, 23.96it/s]\u001b[A\n",
      " 86%|████████▋ | 857/992 [00:36<00:05, 23.77it/s]\u001b[A\n",
      " 87%|████████▋ | 859/992 [00:36<00:05, 23.64it/s]\u001b[A\n",
      " 87%|████████▋ | 861/992 [00:36<00:05, 23.60it/s]\u001b[A\n",
      " 87%|████████▋ | 863/992 [00:36<00:05, 23.47it/s]\u001b[A\n",
      " 87%|████████▋ | 865/992 [00:36<00:05, 23.43it/s]\u001b[A\n",
      " 87%|████████▋ | 867/992 [00:37<00:05, 23.41it/s]\u001b[A\n",
      " 88%|████████▊ | 869/992 [00:37<00:05, 23.38it/s]\u001b[A\n",
      " 97%|█████████▋| 963/992 [00:37<00:01, 25.80it/s]\u001b[A\n",
      " 99%|█████████▉| 982/992 [00:38<00:00, 25.22it/s]\u001b[A\n",
      " 43%|████▎     | 6/14 [01:01<01:21, 10.22s/it]/s]\u001b[A\n",
      "  0%|          | 0/812 [00:00<?, ?it/s]\u001b[A\n",
      "  8%|▊         | 66/812 [00:00<00:01, 428.54it/s]\u001b[A\n",
      " 10%|▉         | 79/812 [00:00<00:05, 127.72it/s]\u001b[A\n",
      " 42%|████▏     | 341/812 [00:00<00:01, 453.87it/s]\u001b[A\n",
      " 50%|█████     | 407/812 [00:01<00:01, 353.68it/s]\u001b[A\n",
      " 59%|█████▊    | 477/812 [00:01<00:00, 373.13it/s]\u001b[A\n",
      " 65%|██████▌   | 530/812 [00:02<00:01, 250.82it/s]\u001b[A\n",
      " 70%|███████   | 569/812 [00:02<00:00, 250.73it/s]\u001b[A\n",
      " 74%|███████▍  | 604/812 [00:02<00:00, 251.07it/s]\u001b[A\n",
      " 78%|███████▊  | 636/812 [00:02<00:00, 225.26it/s]\u001b[A\n",
      " 50%|█████     | 7/14 [01:04<01:04,  9.16s/it]t/s]\u001b[A\n",
      "  0%|          | 0/1332 [00:00<?, ?it/s]\u001b[A\n",
      "  0%|          | 1/1332 [00:00<02:32,  8.70it/s]\u001b[A\n",
      "  0%|          | 6/1332 [00:00<00:52, 25.38it/s]\u001b[A\n",
      "  1%|          | 8/1332 [00:00<00:58, 22.52it/s]\u001b[A\n",
      "  1%|          | 10/1332 [00:00<01:26, 15.34it/s]\u001b[A\n",
      "  1%|          | 12/1332 [00:00<01:26, 15.18it/s]\u001b[A\n",
      "  1%|          | 14/1332 [00:00<01:26, 15.17it/s]\u001b[A\n",
      "  1%|          | 16/1332 [00:01<01:37, 13.46it/s]\u001b[A\n",
      "  1%|▏         | 18/1332 [00:01<01:36, 13.57it/s]\u001b[A\n",
      "  2%|▏         | 20/1332 [00:01<01:35, 13.68it/s]\u001b[A\n",
      "  2%|▏         | 27/1332 [00:01<01:17, 16.81it/s]\u001b[A\n",
      "  2%|▏         | 30/1332 [00:01<01:14, 17.48it/s]\u001b[A\n",
      "  3%|▎         | 36/1332 [00:01<01:06, 19.35it/s]\u001b[A\n",
      "  3%|▎         | 41/1332 [00:02<01:03, 20.48it/s]\u001b[A\n",
      "  3%|▎         | 45/1332 [00:02<01:08, 18.67it/s]\u001b[A\n",
      "  4%|▎         | 48/1332 [00:02<01:12, 17.77it/s]\u001b[A\n",
      "  4%|▍         | 51/1332 [00:02<01:14, 17.29it/s]\u001b[A\n",
      "  4%|▍         | 53/1332 [00:03<01:15, 16.89it/s]\u001b[A\n",
      "  4%|▍         | 55/1332 [00:03<01:16, 16.69it/s]\u001b[A\n",
      "  5%|▍         | 62/1332 [00:03<01:10, 18.08it/s]\u001b[A\n",
      "  5%|▍         | 65/1332 [00:03<01:09, 18.23it/s]\u001b[A\n",
      "  5%|▌         | 71/1332 [00:03<01:05, 19.11it/s]\u001b[A\n",
      "  6%|▌         | 74/1332 [00:03<01:06, 18.94it/s]\u001b[A\n",
      " 16%|█▋        | 217/1332 [00:04<00:21, 53.00it/s]\u001b[A\n",
      " 18%|█▊        | 242/1332 [00:05<00:25, 42.32it/s]\u001b[A\n",
      " 20%|█▉        | 260/1332 [00:06<00:28, 37.76it/s]\u001b[A\n",
      " 20%|██        | 273/1332 [00:07<00:28, 36.54it/s]\u001b[A\n",
      " 21%|██        | 283/1332 [00:08<00:29, 35.33it/s]\u001b[A\n",
      " 22%|██▏       | 291/1332 [00:08<00:29, 35.78it/s]\u001b[A\n",
      " 24%|██▍       | 325/1332 [00:08<00:25, 39.26it/s]\u001b[A\n",
      " 25%|██▌       | 337/1332 [00:09<00:27, 36.50it/s]\u001b[A\n",
      " 26%|██▌       | 346/1332 [00:09<00:27, 36.31it/s]\u001b[A\n",
      " 27%|██▋       | 354/1332 [00:09<00:27, 35.59it/s]\u001b[A\n",
      " 27%|██▋       | 360/1332 [00:10<00:27, 35.18it/s]\u001b[A\n",
      " 27%|██▋       | 365/1332 [00:10<00:28, 34.38it/s]\u001b[A\n",
      " 28%|██▊       | 369/1332 [00:10<00:28, 33.87it/s]\u001b[A\n",
      " 28%|██▊       | 372/1332 [00:11<00:28, 33.73it/s]\u001b[A\n",
      " 28%|██▊       | 377/1332 [00:11<00:28, 33.87it/s]\u001b[A\n",
      " 29%|██▊       | 381/1332 [00:11<00:28, 33.84it/s]\u001b[A\n",
      " 29%|██▉       | 386/1332 [00:11<00:28, 33.74it/s]\u001b[A\n",
      " 29%|██▉       | 390/1332 [00:11<00:28, 33.40it/s]\u001b[A\n",
      " 30%|██▉       | 393/1332 [00:11<00:28, 33.26it/s]\u001b[A\n",
      " 30%|██▉       | 396/1332 [00:12<00:28, 32.84it/s]\u001b[A\n",
      " 30%|██▉       | 399/1332 [00:12<00:28, 32.69it/s]\u001b[A\n",
      " 30%|███       | 402/1332 [00:12<00:28, 32.27it/s]\u001b[A\n",
      " 30%|███       | 404/1332 [00:12<00:28, 32.03it/s]\u001b[A\n",
      " 30%|███       | 406/1332 [00:12<00:29, 31.83it/s]\u001b[A\n",
      " 31%|███       | 412/1332 [00:12<00:28, 31.96it/s]\u001b[A\n",
      " 31%|███       | 415/1332 [00:13<00:28, 31.83it/s]\u001b[A\n",
      " 32%|███▏      | 421/1332 [00:13<00:28, 31.96it/s]\u001b[A\n",
      " 32%|███▏      | 424/1332 [00:13<00:28, 31.51it/s]\u001b[A\n",
      " 32%|███▏      | 428/1332 [00:13<00:28, 31.50it/s]\u001b[A\n",
      " 32%|███▏      | 431/1332 [00:13<00:28, 31.10it/s]\u001b[A\n",
      " 33%|███▎      | 434/1332 [00:14<00:28, 31.00it/s]\u001b[A\n",
      " 35%|███▌      | 470/1332 [00:14<00:25, 33.19it/s]\u001b[A\n",
      " 36%|███▌      | 479/1332 [00:14<00:25, 32.87it/s]\u001b[A\n",
      " 36%|███▋      | 486/1332 [00:14<00:25, 32.63it/s]\u001b[A\n",
      " 37%|███▋      | 492/1332 [00:15<00:25, 32.40it/s]\u001b[A\n",
      " 37%|███▋      | 497/1332 [00:15<00:25, 32.42it/s]\u001b[A\n",
      " 38%|███▊      | 502/1332 [00:15<00:26, 31.71it/s]\u001b[A\n",
      " 38%|███▊      | 506/1332 [00:15<00:26, 31.72it/s]\u001b[A\n",
      " 41%|████      | 541/1332 [00:16<00:23, 33.65it/s]\u001b[A\n",
      " 41%|████▏     | 552/1332 [00:16<00:23, 33.44it/s]\u001b[A\n",
      " 42%|████▏     | 561/1332 [00:17<00:23, 32.77it/s]\u001b[A\n",
      " 43%|████▎     | 568/1332 [00:17<00:23, 32.40it/s]\u001b[A\n",
      " 43%|████▎     | 573/1332 [00:18<00:24, 31.61it/s]\u001b[A\n",
      " 43%|████▎     | 577/1332 [00:18<00:23, 31.61it/s]\u001b[A\n",
      " 44%|████▎     | 581/1332 [00:18<00:24, 31.21it/s]\u001b[A\n",
      " 44%|████▍     | 587/1332 [00:18<00:23, 31.26it/s]\u001b[A\n",
      " 44%|████▍     | 591/1332 [00:18<00:23, 31.20it/s]\u001b[A\n",
      " 45%|████▍     | 596/1332 [00:19<00:23, 31.16it/s]\u001b[A\n",
      " 45%|████▍     | 599/1332 [00:19<00:23, 30.79it/s]\u001b[A\n",
      " 45%|████▌     | 603/1332 [00:19<00:23, 30.76it/s]\u001b[A\n",
      " 45%|████▌     | 606/1332 [00:19<00:23, 30.41it/s]\u001b[A\n",
      " 46%|████▌     | 608/1332 [00:20<00:24, 30.04it/s]\u001b[A\n",
      " 46%|████▌     | 610/1332 [00:20<00:24, 29.97it/s]\u001b[A\n",
      " 46%|████▌     | 612/1332 [00:20<00:24, 29.82it/s]\u001b[A\n",
      " 49%|████▉     | 650/1332 [00:20<00:21, 31.44it/s]\u001b[A\n",
      " 49%|████▉     | 659/1332 [00:20<00:21, 31.46it/s]\u001b[A\n",
      " 50%|█████     | 666/1332 [00:21<00:21, 31.61it/s]\u001b[A\n",
      " 51%|█████     | 673/1332 [00:21<00:21, 31.23it/s]\u001b[A\n",
      " 51%|█████     | 678/1332 [00:22<00:21, 30.63it/s]\u001b[A\n",
      " 51%|█████     | 682/1332 [00:22<00:21, 30.49it/s]\u001b[A\n",
      " 52%|█████▏    | 686/1332 [00:22<00:21, 30.45it/s]\u001b[A\n",
      " 55%|█████▍    | 727/1332 [00:22<00:18, 32.08it/s]\u001b[A\n",
      " 55%|█████▌    | 739/1332 [00:23<00:18, 31.87it/s]\u001b[A\n",
      " 56%|█████▌    | 748/1332 [00:23<00:18, 31.27it/s]\u001b[A\n",
      " 57%|█████▋    | 755/1332 [00:24<00:18, 30.79it/s]\u001b[A\n",
      " 73%|███████▎  | 974/1332 [00:24<00:09, 39.49it/s]\u001b[A\n",
      " 77%|███████▋  | 1023/1332 [00:26<00:08, 38.60it/s]\u001b[A\n",
      " 80%|███████▉  | 1059/1332 [00:27<00:07, 38.89it/s]\u001b[A\n",
      " 82%|████████▏ | 1086/1332 [00:28<00:06, 37.99it/s]\u001b[A\n",
      " 97%|█████████▋| 1297/1332 [00:28<00:00, 45.15it/s]\u001b[A\n",
      " 57%|█████▋    | 8/14 [01:34<01:11, 11.85s/it]it/s]\u001b[A\n",
      "  0%|          | 0/1122 [00:00<?, ?it/s]\u001b[A\n",
      "  0%|          | 1/1122 [00:00<02:47,  6.71it/s]\u001b[A\n",
      "  1%|          | 8/1122 [00:00<00:42, 26.43it/s]\u001b[A\n",
      "  1%|          | 10/1122 [00:00<01:04, 17.15it/s]\u001b[A\n",
      "  1%|          | 12/1122 [00:00<01:05, 16.97it/s]\u001b[A\n",
      "  4%|▎         | 40/1122 [00:00<00:23, 46.92it/s]\u001b[A\n",
      "  4%|▍         | 47/1122 [00:01<00:29, 35.88it/s]\u001b[A\n"
     ]
    },
    {
     "name": "stderr",
     "output_type": "stream",
     "text": [
      "  6%|▌         | 66/1122 [00:01<00:24, 43.65it/s]\u001b[A\n",
      " 24%|██▎       | 265/1122 [00:01<00:05, 158.55it/s]\u001b[A\n",
      " 27%|██▋       | 307/1122 [00:02<00:06, 123.76it/s]\u001b[A\n",
      " 30%|███       | 338/1122 [00:03<00:06, 112.29it/s]\u001b[A\n",
      " 32%|███▏      | 362/1122 [00:03<00:07, 103.88it/s]\u001b[A\n",
      " 34%|███▍      | 380/1122 [00:03<00:07, 104.51it/s]\u001b[A\n",
      " 37%|███▋      | 418/1122 [00:03<00:06, 109.86it/s]\u001b[A\n",
      " 39%|███▉      | 437/1122 [00:04<00:06, 100.05it/s]\u001b[A\n",
      " 64%|██████▍   | 9/14 [01:39<00:55, 11.02s/it]7it/s]\u001b[A\n",
      "  0%|          | 0/1056 [00:00<?, ?it/s]\u001b[A\n",
      "  4%|▎         | 38/1056 [00:00<00:03, 296.15it/s]\u001b[A\n",
      "  4%|▍         | 47/1056 [00:00<00:18, 55.72it/s] \u001b[A\n",
      "  5%|▌         | 54/1056 [00:01<00:28, 34.81it/s]\u001b[A\n",
      "  6%|▌         | 59/1056 [00:01<00:30, 32.32it/s]\u001b[A\n",
      "  6%|▌         | 64/1056 [00:02<00:35, 28.27it/s]\u001b[A\n",
      " 21%|██▏       | 226/1056 [00:02<00:08, 93.59it/s]\u001b[A\n",
      " 25%|██▍       | 261/1056 [00:04<00:13, 56.91it/s]\u001b[A\n",
      " 27%|██▋       | 290/1056 [00:04<00:12, 61.31it/s]\u001b[A\n",
      " 30%|██▉       | 314/1056 [00:06<00:15, 46.38it/s]\u001b[A\n",
      " 31%|███▏      | 331/1056 [00:06<00:15, 48.10it/s]\u001b[A\n",
      " 34%|███▎      | 355/1056 [00:07<00:13, 50.59it/s]\u001b[A\n",
      " 35%|███▌      | 372/1056 [00:08<00:15, 43.59it/s]\u001b[A\n",
      " 36%|███▋      | 384/1056 [00:09<00:15, 42.36it/s]\u001b[A\n",
      " 43%|████▎     | 449/1056 [00:09<00:12, 48.81it/s]\u001b[A\n",
      " 45%|████▍     | 471/1056 [00:10<00:13, 43.17it/s]\u001b[A\n",
      " 46%|████▌     | 487/1056 [00:12<00:14, 40.38it/s]\u001b[A\n",
      " 47%|████▋     | 498/1056 [00:12<00:14, 38.57it/s]\u001b[A\n",
      " 48%|████▊     | 507/1056 [00:13<00:14, 38.06it/s]\u001b[A\n",
      " 49%|████▊     | 514/1056 [00:13<00:14, 37.34it/s]\u001b[A\n",
      " 49%|████▉     | 519/1056 [00:14<00:14, 36.24it/s]\u001b[A\n",
      " 50%|████▉     | 523/1056 [00:14<00:14, 35.85it/s]\u001b[A\n",
      " 50%|████▉     | 527/1056 [00:14<00:14, 35.42it/s]\u001b[A\n",
      " 50%|█████     | 530/1056 [00:15<00:15, 34.97it/s]\u001b[A\n",
      " 51%|█████     | 536/1056 [00:15<00:14, 35.03it/s]\u001b[A\n",
      " 51%|█████     | 539/1056 [00:15<00:14, 34.88it/s]\u001b[A\n",
      " 51%|█████▏    | 542/1056 [00:15<00:14, 34.77it/s]\u001b[A\n",
      " 52%|█████▏    | 545/1056 [00:15<00:14, 34.33it/s]\u001b[A\n",
      " 52%|█████▏    | 547/1056 [00:16<00:15, 33.83it/s]\u001b[A\n",
      " 52%|█████▏    | 549/1056 [00:16<00:15, 33.64it/s]\u001b[A\n",
      " 52%|█████▏    | 551/1056 [00:16<00:15, 33.46it/s]\u001b[A\n",
      " 52%|█████▏    | 553/1056 [00:16<00:15, 32.98it/s]\u001b[A\n",
      " 53%|█████▎    | 556/1056 [00:16<00:15, 32.88it/s]\u001b[A\n",
      " 53%|█████▎    | 558/1056 [00:17<00:15, 32.71it/s]\u001b[A\n",
      " 53%|█████▎    | 560/1056 [00:17<00:15, 32.48it/s]\u001b[A\n",
      " 53%|█████▎    | 562/1056 [00:17<00:15, 32.35it/s]\u001b[A\n",
      " 54%|█████▎    | 567/1056 [00:17<00:15, 32.39it/s]\u001b[A\n",
      " 54%|█████▍    | 570/1056 [00:17<00:15, 32.27it/s]\u001b[A\n",
      " 54%|█████▍    | 573/1056 [00:17<00:15, 32.17it/s]\u001b[A\n",
      " 55%|█████▍    | 576/1056 [00:18<00:15, 31.61it/s]\u001b[A\n",
      " 58%|█████▊    | 609/1056 [00:18<00:13, 33.17it/s]\u001b[A\n",
      " 59%|█████▊    | 618/1056 [00:19<00:13, 31.77it/s]\u001b[A\n",
      " 59%|█████▉    | 625/1056 [00:19<00:13, 31.47it/s]\u001b[A\n",
      " 60%|█████▉    | 630/1056 [00:19<00:13, 31.51it/s]\u001b[A\n",
      " 60%|██████    | 635/1056 [00:20<00:13, 31.32it/s]\u001b[A\n",
      " 61%|██████    | 639/1056 [00:20<00:13, 30.62it/s]\u001b[A\n",
      " 61%|██████    | 642/1056 [00:21<00:13, 30.54it/s]\u001b[A\n",
      " 61%|██████    | 645/1056 [00:21<00:13, 30.25it/s]\u001b[A\n",
      " 61%|██████▏   | 648/1056 [00:21<00:13, 30.17it/s]\u001b[A\n",
      " 62%|██████▏   | 651/1056 [00:21<00:13, 29.89it/s]\u001b[A\n",
      " 62%|██████▏   | 653/1056 [00:21<00:13, 29.79it/s]\u001b[A\n",
      " 62%|██████▏   | 655/1056 [00:22<00:13, 29.70it/s]\u001b[A\n",
      " 62%|██████▎   | 660/1056 [00:22<00:13, 29.75it/s]\u001b[A\n",
      " 63%|██████▎   | 663/1056 [00:22<00:13, 29.65it/s]\u001b[A\n",
      " 63%|██████▎   | 666/1056 [00:22<00:13, 29.58it/s]\u001b[A\n",
      " 63%|██████▎   | 669/1056 [00:22<00:13, 29.16it/s]\u001b[A\n",
      " 64%|██████▎   | 671/1056 [00:23<00:13, 29.05it/s]\u001b[A\n",
      " 64%|██████▎   | 673/1056 [00:23<00:13, 28.95it/s]\u001b[A\n",
      " 64%|██████▍   | 675/1056 [00:23<00:13, 28.87it/s]\u001b[A\n",
      " 64%|██████▍   | 677/1056 [00:23<00:13, 28.61it/s]\u001b[A\n",
      " 64%|██████▍   | 680/1056 [00:23<00:13, 28.55it/s]\u001b[A\n",
      " 65%|██████▍   | 682/1056 [00:23<00:13, 28.48it/s]\u001b[A\n",
      " 65%|██████▍   | 684/1056 [00:24<00:13, 28.41it/s]\u001b[A\n",
      " 65%|██████▍   | 686/1056 [00:24<00:13, 28.34it/s]\u001b[A\n",
      " 65%|██████▌   | 691/1056 [00:24<00:12, 28.40it/s]\u001b[A\n",
      " 66%|██████▌   | 694/1056 [00:24<00:12, 28.35it/s]\u001b[A\n",
      " 66%|██████▌   | 697/1056 [00:24<00:12, 28.31it/s]\u001b[A\n",
      " 66%|██████▋   | 700/1056 [00:25<00:12, 27.94it/s]\u001b[A\n",
      " 66%|██████▋   | 702/1056 [00:25<00:12, 27.87it/s]\u001b[A\n",
      " 67%|██████▋   | 704/1056 [00:25<00:12, 27.61it/s]\u001b[A\n",
      " 70%|██████▉   | 738/1056 [00:25<00:11, 28.77it/s]\u001b[A\n",
      " 71%|███████   | 746/1056 [00:26<00:10, 28.46it/s]\u001b[A\n",
      " 71%|███████   | 752/1056 [00:26<00:10, 28.52it/s]\u001b[A\n",
      " 72%|███████▏  | 758/1056 [00:26<00:10, 28.30it/s]\u001b[A\n",
      " 72%|███████▏  | 763/1056 [00:27<00:10, 27.89it/s]\u001b[A\n",
      " 73%|███████▎  | 767/1056 [00:27<00:10, 27.57it/s]\u001b[A\n",
      " 76%|███████▌  | 801/1056 [00:27<00:08, 28.65it/s]\u001b[A\n",
      " 77%|███████▋  | 810/1056 [00:28<00:08, 28.40it/s]\u001b[A\n",
      " 77%|███████▋  | 817/1056 [00:28<00:08, 28.38it/s]\u001b[A\n",
      " 78%|███████▊  | 823/1056 [00:29<00:08, 28.18it/s]\u001b[A\n",
      " 78%|███████▊  | 828/1056 [00:29<00:08, 27.78it/s]\u001b[A\n",
      " 79%|███████▉  | 832/1056 [00:30<00:08, 27.64it/s]\u001b[A\n",
      " 79%|███████▉  | 835/1056 [00:30<00:08, 27.60it/s]\u001b[A\n",
      " 79%|███████▉  | 838/1056 [00:30<00:07, 27.43it/s]\u001b[A\n",
      " 80%|███████▉  | 841/1056 [00:30<00:07, 27.38it/s]\u001b[A\n",
      " 80%|████████  | 846/1056 [00:30<00:07, 27.44it/s]\u001b[A\n",
      " 80%|████████  | 849/1056 [00:30<00:07, 27.40it/s]\u001b[A\n",
      " 81%|████████  | 852/1056 [00:31<00:07, 27.38it/s]\u001b[A\n",
      " 81%|████████  | 855/1056 [00:31<00:07, 27.05it/s]\u001b[A\n",
      " 81%|████████  | 857/1056 [00:31<00:07, 26.98it/s]\u001b[A\n",
      " 81%|████████▏ | 859/1056 [00:32<00:07, 26.79it/s]\u001b[A\n",
      " 82%|████████▏ | 861/1056 [00:32<00:07, 26.72it/s]\u001b[A\n",
      " 82%|████████▏ | 863/1056 [00:32<00:07, 26.66it/s]\u001b[A\n",
      " 82%|████████▏ | 865/1056 [00:32<00:07, 26.59it/s]\u001b[A\n",
      " 88%|████████▊ | 930/1056 [00:32<00:04, 28.44it/s]\u001b[A\n",
      " 89%|████████▉ | 943/1056 [00:33<00:03, 28.26it/s]\u001b[A\n",
      " 90%|█████████ | 953/1056 [00:34<00:03, 27.73it/s]\u001b[A\n",
      " 91%|█████████ | 960/1056 [00:34<00:03, 27.57it/s]\u001b[A\n",
      " 94%|█████████▍| 993/1056 [00:34<00:02, 28.40it/s]\u001b[A\n",
      " 95%|█████████▌| 1004/1056 [00:35<00:01, 28.38it/s]\u001b[A\n",
      " 96%|█████████▌| 1013/1056 [00:36<00:01, 27.95it/s]\u001b[A\n",
      " 96%|█████████▋| 1019/1056 [00:36<00:01, 27.68it/s]\u001b[A\n",
      " 97%|█████████▋| 1024/1056 [00:37<00:01, 27.58it/s]\u001b[A\n",
      " 97%|█████████▋| 1028/1056 [00:37<00:01, 27.57it/s]\u001b[A\n",
      " 98%|█████████▊| 1032/1056 [00:37<00:00, 27.58it/s]\u001b[A\n",
      " 98%|█████████▊| 1036/1056 [00:37<00:00, 27.45it/s]\u001b[A\n",
      " 98%|█████████▊| 1039/1056 [00:37<00:00, 27.39it/s]\u001b[A\n",
      " 99%|█████████▊| 1042/1056 [00:38<00:00, 27.10it/s]\u001b[A\n",
      " 99%|█████████▉| 1044/1056 [00:38<00:00, 27.04it/s]\u001b[A\n",
      " 99%|█████████▉| 1046/1056 [00:38<00:00, 26.83it/s]\u001b[A\n",
      " 99%|█████████▉| 1048/1056 [00:39<00:00, 26.75it/s]\u001b[A\n",
      " 99%|█████████▉| 1050/1056 [00:39<00:00, 26.70it/s]\u001b[A\n",
      "100%|█████████▉| 1052/1056 [00:39<00:00, 26.65it/s]\u001b[A\n",
      "100%|█████████▉| 1054/1056 [00:39<00:00, 26.57it/s]\u001b[A\n",
      "100%|██████████| 1056/1056 [00:39<00:00, 26.50it/s]\u001b[A\n",
      " 71%|███████▏  | 10/14 [02:19<00:55, 13.90s/it]\n",
      "  0%|          | 0/1599 [00:00<?, ?it/s]\u001b[A\n",
      " 22%|██▏       | 356/1599 [00:00<00:00, 2232.83it/s]\u001b[A\n",
      " 27%|██▋       | 424/1599 [00:01<00:03, 389.58it/s] \u001b[A\n",
      " 34%|███▍      | 547/1599 [00:01<00:02, 434.82it/s]\u001b[A\n",
      " 38%|███▊      | 604/1599 [00:02<00:04, 208.86it/s]\u001b[A\n",
      " 40%|████      | 645/1599 [00:03<00:05, 175.56it/s]\u001b[A\n",
      " 42%|████▏     | 675/1599 [00:03<00:05, 171.09it/s]\u001b[A\n",
      " 47%|████▋     | 744/1599 [00:04<00:04, 181.49it/s]\u001b[A\n",
      " 48%|████▊     | 775/1599 [00:04<00:04, 171.62it/s]\u001b[A\n",
      " 50%|████▉     | 799/1599 [00:04<00:04, 161.47it/s]\u001b[A\n",
      " 54%|█████▎    | 859/1599 [00:05<00:04, 167.57it/s]\u001b[A\n",
      " 55%|█████▌    | 882/1599 [00:05<00:04, 166.67it/s]\u001b[A\n",
      " 56%|█████▋    | 903/1599 [00:06<00:04, 148.48it/s]\u001b[A\n",
      " 57%|█████▋    | 918/1599 [00:06<00:04, 147.16it/s]\u001b[A\n",
      " 58%|█████▊    | 932/1599 [00:06<00:04, 136.07it/s]\u001b[A\n",
      " 59%|█████▉    | 943/1599 [00:07<00:04, 134.60it/s]\u001b[A\n",
      " 84%|████████▍ | 1342/1599 [00:07<00:01, 187.50it/s]\u001b[A\n",
      " 89%|████████▉ | 1428/1599 [00:08<00:00, 176.99it/s]\u001b[A\n",
      " 79%|███████▊  | 11/14 [02:27<00:40, 13.37s/it]it/s]\u001b[A\n",
      "  0%|          | 0/1560 [00:00<?, ?it/s]\u001b[A\n",
      " 10%|█         | 157/1560 [00:00<00:01, 882.89it/s]\u001b[A\n",
      " 12%|█▏        | 184/1560 [00:02<00:21, 64.87it/s] \u001b[A\n",
      " 13%|█▎        | 203/1560 [00:04<00:26, 50.50it/s]\u001b[A\n",
      " 14%|█▍        | 217/1560 [00:05<00:35, 38.33it/s]\u001b[A\n",
      " 15%|█▍        | 227/1560 [00:06<00:38, 34.19it/s]\u001b[A\n",
      " 15%|█▌        | 235/1560 [00:07<00:40, 33.03it/s]\u001b[A\n",
      " 15%|█▌        | 241/1560 [00:07<00:40, 32.75it/s]\u001b[A\n",
      " 16%|█▌        | 246/1560 [00:08<00:43, 30.49it/s]\u001b[A\n",
      " 16%|█▌        | 250/1560 [00:08<00:44, 29.42it/s]\u001b[A\n",
      " 16%|█▌        | 253/1560 [00:08<00:45, 28.64it/s]\u001b[A\n",
      " 16%|█▋        | 256/1560 [00:09<00:46, 28.03it/s]\u001b[A\n",
      " 17%|█▋        | 258/1560 [00:09<00:47, 27.42it/s]\u001b[A\n",
      " 17%|█▋        | 260/1560 [00:09<00:47, 27.18it/s]\u001b[A\n",
      " 17%|█▋        | 262/1560 [00:09<00:48, 27.00it/s]\u001b[A\n",
      " 17%|█▋        | 264/1560 [00:09<00:48, 26.45it/s]\u001b[A\n",
      " 17%|█▋        | 266/1560 [00:10<00:49, 26.24it/s]\u001b[A\n",
      " 17%|█▋        | 268/1560 [00:10<00:49, 26.01it/s]\u001b[A\n",
      " 17%|█▋        | 272/1560 [00:10<00:49, 26.07it/s]\u001b[A\n",
      " 18%|█▊        | 274/1560 [00:10<00:49, 25.92it/s]\u001b[A\n",
      " 20%|██        | 316/1560 [00:10<00:42, 29.54it/s]\u001b[A\n",
      " 21%|██        | 328/1560 [00:11<00:44, 27.47it/s]\u001b[A\n",
      " 22%|██▏       | 337/1560 [00:13<00:47, 25.88it/s]\u001b[A\n",
      " 22%|██▏       | 343/1560 [00:13<00:48, 25.13it/s]\u001b[A\n",
      " 22%|██▏       | 348/1560 [00:13<00:48, 25.21it/s]\u001b[A\n",
      " 23%|██▎       | 353/1560 [00:14<00:48, 25.05it/s]\u001b[A\n",
      " 30%|███       | 470/1560 [00:14<00:33, 32.98it/s]\u001b[A\n",
      " 32%|███▏      | 495/1560 [00:17<00:36, 29.06it/s]\u001b[A\n",
      " 33%|███▎      | 513/1560 [00:17<00:35, 29.16it/s]\u001b[A\n",
      " 35%|███▌      | 547/1560 [00:17<00:32, 30.83it/s]\u001b[A\n",
      " 36%|███▌      | 563/1560 [00:19<00:34, 28.97it/s]\u001b[A\n",
      " 37%|███▋      | 575/1560 [00:20<00:34, 28.31it/s]\u001b[A\n",
      " 37%|███▋      | 584/1560 [00:21<00:35, 27.81it/s]\u001b[A\n",
      " 38%|███▊      | 591/1560 [00:21<00:35, 27.26it/s]\u001b[A\n",
      " 38%|███▊      | 596/1560 [00:22<00:35, 26.79it/s]\u001b[A\n",
      " 38%|███▊      | 600/1560 [00:22<00:36, 26.47it/s]\u001b[A\n",
      " 39%|███▊      | 603/1560 [00:22<00:36, 26.26it/s]\u001b[A\n",
      " 39%|███▉      | 606/1560 [00:23<00:36, 26.07it/s]\u001b[A\n",
      " 39%|███▉      | 608/1560 [00:23<00:36, 26.01it/s]\u001b[A\n",
      " 39%|███▉      | 610/1560 [00:23<00:36, 25.94it/s]\u001b[A\n",
      " 39%|███▉      | 614/1560 [00:23<00:36, 25.98it/s]\u001b[A\n",
      " 40%|███▉      | 617/1560 [00:23<00:36, 25.82it/s]\u001b[A\n",
      " 40%|███▉      | 619/1560 [00:24<00:36, 25.76it/s]\u001b[A\n",
      " 40%|███▉      | 622/1560 [00:24<00:36, 25.76it/s]\u001b[A\n",
      " 40%|████      | 625/1560 [00:24<00:36, 25.58it/s]\u001b[A\n",
      " 40%|████      | 627/1560 [00:24<00:36, 25.39it/s]\u001b[A\n",
      " 40%|████      | 629/1560 [00:24<00:36, 25.30it/s]\u001b[A\n",
      " 40%|████      | 631/1560 [00:25<00:37, 25.09it/s]\u001b[A\n",
      " 41%|████      | 633/1560 [00:25<00:37, 25.05it/s]\u001b[A\n",
      " 41%|████      | 635/1560 [00:25<00:37, 24.98it/s]\u001b[A\n",
      " 41%|████      | 637/1560 [00:25<00:37, 24.79it/s]\u001b[A\n",
      " 41%|████      | 639/1560 [00:25<00:37, 24.75it/s]\u001b[A\n",
      " 41%|████      | 641/1560 [00:26<00:37, 24.58it/s]\u001b[A\n",
      " 41%|████      | 643/1560 [00:26<00:37, 24.52it/s]\u001b[A\n",
      " 41%|████▏     | 645/1560 [00:26<00:37, 24.47it/s]\u001b[A\n",
      " 41%|████▏     | 647/1560 [00:26<00:37, 24.29it/s]\u001b[A\n",
      " 42%|████▏     | 652/1560 [00:26<00:37, 24.35it/s]\u001b[A\n",
      " 42%|████▏     | 654/1560 [00:27<00:37, 24.20it/s]\u001b[A\n",
      " 42%|████▏     | 656/1560 [00:27<00:37, 24.16it/s]\u001b[A\n",
      " 42%|████▏     | 660/1560 [00:27<00:37, 24.20it/s]\u001b[A\n",
      " 42%|████▎     | 663/1560 [00:27<00:37, 24.07it/s]\u001b[A\n",
      " 43%|████▎     | 665/1560 [00:27<00:37, 23.90it/s]\u001b[A\n",
      " 43%|████▎     | 667/1560 [00:27<00:37, 23.85it/s]\u001b[A\n",
      " 43%|████▎     | 669/1560 [00:28<00:37, 23.65it/s]\u001b[A\n",
      " 43%|████▎     | 671/1560 [00:28<00:37, 23.58it/s]\u001b[A\n",
      " 43%|████▎     | 673/1560 [00:28<00:37, 23.51it/s]\u001b[A\n",
      " 43%|████▎     | 675/1560 [00:28<00:37, 23.34it/s]\u001b[A\n",
      " 43%|████▎     | 677/1560 [00:29<00:37, 23.28it/s]\u001b[A\n",
      " 44%|████▎     | 679/1560 [00:29<00:38, 23.12it/s]\u001b[A\n",
      " 44%|████▎     | 681/1560 [00:29<00:38, 23.07it/s]\u001b[A\n",
      " 44%|████▍     | 683/1560 [00:29<00:38, 22.99it/s]\u001b[A\n",
      " 44%|████▍     | 685/1560 [00:30<00:38, 22.80it/s]\u001b[A\n",
      " 44%|████▍     | 690/1560 [00:30<00:38, 22.83it/s]\u001b[A\n",
      " 44%|████▍     | 692/1560 [00:30<00:38, 22.67it/s]\u001b[A\n",
      " 44%|████▍     | 694/1560 [00:30<00:38, 22.62it/s]\u001b[A\n",
      " 45%|████▍     | 698/1560 [00:30<00:38, 22.65it/s]\u001b[A\n",
      " 45%|████▍     | 700/1560 [00:30<00:38, 22.59it/s]\u001b[A\n",
      " 45%|████▌     | 702/1560 [00:31<00:38, 22.47it/s]\u001b[A\n",
      " 45%|████▌     | 704/1560 [00:31<00:38, 22.43it/s]\u001b[A\n",
      " 45%|████▌     | 706/1560 [00:31<00:38, 22.30it/s]\u001b[A\n",
      " 45%|████▌     | 708/1560 [00:31<00:38, 22.25it/s]\u001b[A\n",
      " 46%|████▌     | 710/1560 [00:32<00:38, 22.11it/s]\u001b[A\n",
      " 46%|████▌     | 712/1560 [00:32<00:38, 22.06it/s]\u001b[A\n",
      " 46%|████▌     | 714/1560 [00:32<00:38, 21.92it/s]\u001b[A\n",
      " 46%|████▌     | 716/1560 [00:32<00:38, 21.90it/s]\u001b[A\n",
      " 46%|████▌     | 718/1560 [00:32<00:38, 21.86it/s]\u001b[A\n",
      " 46%|████▌     | 720/1560 [00:33<00:38, 21.72it/s]\u001b[A\n",
      " 46%|████▋     | 722/1560 [00:33<00:38, 21.69it/s]\u001b[A\n",
      " 46%|████▋     | 724/1560 [00:33<00:38, 21.63it/s]\u001b[A\n",
      " 47%|████▋     | 728/1560 [00:33<00:38, 21.63it/s]\u001b[A\n",
      " 47%|████▋     | 730/1560 [00:33<00:38, 21.51it/s]\u001b[A\n",
      " 47%|████▋     | 732/1560 [00:34<00:38, 21.46it/s]\u001b[A\n",
      " 47%|████▋     | 736/1560 [00:34<00:38, 21.49it/s]\u001b[A\n",
      " 47%|████▋     | 738/1560 [00:34<00:38, 21.46it/s]\u001b[A\n",
      " 47%|████▋     | 740/1560 [00:34<00:38, 21.31it/s]\u001b[A\n",
      " 48%|████▊     | 742/1560 [00:35<00:38, 21.12it/s]\u001b[A\n",
      " 48%|████▊     | 744/1560 [00:35<00:38, 20.97it/s]\u001b[A\n",
      " 48%|████▊     | 745/1560 [00:35<00:38, 20.91it/s]\u001b[A\n",
      " 48%|████▊     | 747/1560 [00:35<00:38, 20.87it/s]\u001b[A\n",
      " 48%|████▊     | 748/1560 [00:35<00:39, 20.78it/s]\u001b[A\n",
      " 48%|████▊     | 750/1560 [00:36<00:39, 20.76it/s]\u001b[A\n",
      " 48%|████▊     | 751/1560 [00:36<00:39, 20.72it/s]\u001b[A\n",
      " 48%|████▊     | 752/1560 [00:36<00:39, 20.66it/s]\u001b[A\n",
      " 48%|████▊     | 754/1560 [00:36<00:39, 20.62it/s]\u001b[A\n",
      " 48%|████▊     | 755/1560 [00:36<00:39, 20.56it/s]\u001b[A\n",
      " 49%|████▊     | 757/1560 [00:36<00:39, 20.53it/s]\u001b[A\n",
      " 49%|████▊     | 758/1560 [00:37<00:39, 20.47it/s]\u001b[A\n",
      " 49%|████▊     | 760/1560 [00:37<00:39, 20.44it/s]\u001b[A\n",
      " 49%|████▉     | 762/1560 [00:37<00:39, 20.40it/s]\u001b[A\n",
      " 49%|████▉     | 766/1560 [00:37<00:38, 20.44it/s]\u001b[A\n",
      " 49%|████▉     | 768/1560 [00:37<00:38, 20.33it/s]\u001b[A\n",
      " 49%|████▉     | 770/1560 [00:37<00:38, 20.30it/s]\u001b[A\n",
      " 50%|████▉     | 774/1560 [00:38<00:38, 20.33it/s]\u001b[A\n",
      " 50%|████▉     | 776/1560 [00:38<00:38, 20.30it/s]\u001b[A\n",
      " 50%|████▉     | 778/1560 [00:38<00:38, 20.18it/s]\u001b[A\n",
      " 50%|█████     | 780/1560 [00:38<00:38, 20.09it/s]\u001b[A\n",
      " 53%|█████▎    | 820/1560 [00:38<00:35, 21.05it/s]\u001b[A\n",
      " 53%|█████▎    | 829/1560 [00:39<00:35, 20.78it/s]\u001b[A\n",
      " 54%|█████▎    | 836/1560 [00:40<00:35, 20.58it/s]\u001b[A\n",
      " 54%|█████▍    | 841/1560 [00:40<00:34, 20.62it/s]\u001b[A\n",
      " 54%|█████▍    | 846/1560 [00:41<00:34, 20.46it/s]\u001b[A\n",
      " 54%|█████▍    | 850/1560 [00:41<00:34, 20.49it/s]\u001b[A\n",
      " 55%|█████▍    | 854/1560 [00:41<00:34, 20.34it/s]\u001b[A\n",
      " 55%|█████▍    | 857/1560 [00:42<00:34, 20.19it/s]\u001b[A\n",
      " 55%|█████▌    | 859/1560 [00:42<00:34, 20.17it/s]\u001b[A\n",
      " 55%|█████▌    | 861/1560 [00:42<00:34, 20.15it/s]\u001b[A\n",
      " 55%|█████▌    | 863/1560 [00:42<00:34, 20.12it/s]\u001b[A\n",
      " 55%|█████▌    | 865/1560 [00:43<00:34, 20.03it/s]\u001b[A\n",
      " 56%|█████▌    | 867/1560 [00:43<00:34, 20.01it/s]\u001b[A\n",
      " 56%|█████▌    | 869/1560 [00:43<00:34, 19.93it/s]\u001b[A\n",
      " 56%|█████▌    | 871/1560 [00:43<00:34, 19.90it/s]\u001b[A\n",
      " 56%|█████▌    | 873/1560 [00:43<00:34, 19.87it/s]\u001b[A\n",
      " 56%|█████▌    | 875/1560 [00:44<00:34, 19.79it/s]\u001b[A\n",
      " 56%|█████▋    | 880/1560 [00:44<00:34, 19.84it/s]\u001b[A\n",
      " 57%|█████▋    | 882/1560 [00:44<00:34, 19.77it/s]\u001b[A\n",
      " 57%|█████▋    | 884/1560 [00:44<00:34, 19.76it/s]\u001b[A\n",
      " 57%|█████▋    | 888/1560 [00:44<00:33, 19.80it/s]\u001b[A\n",
      " 57%|█████▋    | 891/1560 [00:45<00:33, 19.73it/s]\u001b[A\n",
      " 57%|█████▋    | 893/1560 [00:45<00:33, 19.64it/s]\u001b[A\n",
      " 57%|█████▋    | 895/1560 [00:45<00:34, 19.55it/s]\u001b[A\n",
      " 57%|█████▊    | 897/1560 [00:45<00:33, 19.54it/s]\u001b[A\n",
      " 58%|█████▊    | 899/1560 [00:46<00:33, 19.53it/s]\u001b[A\n",
      " 58%|█████▊    | 901/1560 [00:46<00:33, 19.51it/s]\u001b[A\n",
      " 58%|█████▊    | 903/1560 [00:46<00:33, 19.44it/s]\u001b[A\n",
      " 58%|█████▊    | 905/1560 [00:46<00:33, 19.43it/s]\u001b[A\n",
      " 58%|█████▊    | 907/1560 [00:46<00:33, 19.35it/s]\u001b[A\n",
      " 58%|█████▊    | 909/1560 [00:47<00:33, 19.33it/s]\u001b[A\n",
      " 58%|█████▊    | 911/1560 [00:47<00:33, 19.31it/s]\u001b[A\n",
      " 59%|█████▊    | 913/1560 [00:47<00:33, 19.23it/s]\u001b[A\n",
      " 59%|█████▉    | 918/1560 [00:47<00:33, 19.29it/s]\u001b[A\n",
      " 59%|█████▉    | 920/1560 [00:47<00:33, 19.22it/s]\u001b[A\n",
      " 59%|█████▉    | 922/1560 [00:47<00:33, 19.21it/s]\u001b[A\n",
      " 59%|█████▉    | 926/1560 [00:48<00:32, 19.25it/s]\u001b[A\n",
      " 60%|█████▉    | 929/1560 [00:48<00:32, 19.20it/s]\u001b[A\n",
      " 60%|█████▉    | 931/1560 [00:48<00:32, 19.12it/s]\u001b[A\n",
      " 60%|█████▉    | 933/1560 [00:48<00:32, 19.05it/s]\u001b[A\n",
      " 60%|█████▉    | 935/1560 [00:49<00:32, 19.04it/s]\u001b[A\n",
      " 60%|██████    | 937/1560 [00:49<00:32, 19.02it/s]\u001b[A\n"
     ]
    },
    {
     "name": "stderr",
     "output_type": "stream",
     "text": [
      " 63%|██████▎   | 976/1560 [00:49<00:29, 19.74it/s]\u001b[A\n",
      " 63%|██████▎   | 984/1560 [00:50<00:29, 19.60it/s]\u001b[A\n",
      " 63%|██████▎   | 990/1560 [00:50<00:29, 19.51it/s]\u001b[A\n",
      " 64%|██████▍   | 995/1560 [00:51<00:28, 19.50it/s]\u001b[A\n",
      " 64%|██████▍   | 999/1560 [00:51<00:28, 19.47it/s]\u001b[A\n",
      " 64%|██████▍   | 1002/1560 [00:51<00:28, 19.47it/s]\u001b[A\n",
      " 64%|██████▍   | 1005/1560 [00:51<00:28, 19.42it/s]\u001b[A\n",
      " 65%|██████▍   | 1008/1560 [00:52<00:28, 19.31it/s]\u001b[A\n",
      " 65%|██████▍   | 1010/1560 [00:52<00:28, 19.29it/s]\u001b[A\n",
      " 65%|██████▍   | 1012/1560 [00:52<00:28, 19.22it/s]\u001b[A\n",
      " 65%|██████▌   | 1014/1560 [00:52<00:28, 19.20it/s]\u001b[A\n",
      " 65%|██████▌   | 1016/1560 [00:52<00:28, 19.19it/s]\u001b[A\n",
      " 65%|██████▌   | 1018/1560 [00:53<00:28, 19.12it/s]\u001b[A\n",
      " 65%|██████▌   | 1020/1560 [00:53<00:28, 19.11it/s]\u001b[A\n",
      " 66%|██████▌   | 1022/1560 [00:53<00:28, 19.10it/s]\u001b[A\n",
      " 66%|██████▌   | 1024/1560 [00:53<00:28, 19.03it/s]\u001b[A\n",
      " 66%|██████▌   | 1026/1560 [00:53<00:28, 19.02it/s]\u001b[A\n",
      " 66%|██████▌   | 1028/1560 [00:54<00:27, 19.00it/s]\u001b[A\n",
      " 66%|██████▌   | 1032/1560 [00:54<00:27, 19.03it/s]\u001b[A\n",
      " 66%|██████▋   | 1034/1560 [00:54<00:27, 18.97it/s]\u001b[A\n",
      " 66%|██████▋   | 1036/1560 [00:54<00:27, 18.95it/s]\u001b[A\n",
      " 67%|██████▋   | 1040/1560 [00:54<00:27, 18.98it/s]\u001b[A\n",
      " 67%|██████▋   | 1042/1560 [00:54<00:27, 18.97it/s]\u001b[A\n",
      " 67%|██████▋   | 1044/1560 [00:55<00:27, 18.91it/s]\u001b[A\n",
      " 67%|██████▋   | 1046/1560 [00:55<00:27, 18.86it/s]\u001b[A\n",
      " 67%|██████▋   | 1048/1560 [00:55<00:27, 18.85it/s]\u001b[A\n",
      " 67%|██████▋   | 1050/1560 [00:55<00:27, 18.78it/s]\u001b[A\n",
      " 67%|██████▋   | 1052/1560 [00:56<00:27, 18.77it/s]\u001b[A\n",
      " 68%|██████▊   | 1054/1560 [00:56<00:26, 18.76it/s]\u001b[A\n",
      " 70%|███████   | 1093/1560 [00:56<00:24, 19.41it/s]\u001b[A\n",
      " 71%|███████   | 1105/1560 [00:57<00:23, 19.29it/s]\u001b[A\n",
      " 71%|███████▏  | 1114/1560 [00:57<00:23, 19.27it/s]\u001b[A\n",
      " 72%|███████▏  | 1121/1560 [00:58<00:22, 19.12it/s]\u001b[A\n",
      " 72%|███████▏  | 1126/1560 [00:59<00:22, 19.03it/s]\u001b[A\n",
      " 72%|███████▏  | 1130/1560 [00:59<00:22, 18.95it/s]\u001b[A\n",
      " 73%|███████▎  | 1133/1560 [00:59<00:22, 18.96it/s]\u001b[A\n",
      " 73%|███████▎  | 1136/1560 [01:00<00:22, 18.91it/s]\u001b[A\n",
      " 73%|███████▎  | 1139/1560 [01:00<00:22, 18.86it/s]\u001b[A\n",
      " 73%|███████▎  | 1141/1560 [01:00<00:22, 18.79it/s]\u001b[A\n",
      " 73%|███████▎  | 1146/1560 [01:00<00:21, 18.82it/s]\u001b[A\n",
      " 74%|███████▎  | 1148/1560 [01:01<00:21, 18.74it/s]\u001b[A\n",
      " 74%|███████▎  | 1150/1560 [01:01<00:21, 18.72it/s]\u001b[A\n",
      " 74%|███████▍  | 1154/1560 [01:01<00:21, 18.73it/s]\u001b[A\n",
      " 74%|███████▍  | 1156/1560 [01:01<00:21, 18.72it/s]\u001b[A\n",
      " 74%|███████▍  | 1158/1560 [01:01<00:21, 18.68it/s]\u001b[A\n",
      " 74%|███████▍  | 1160/1560 [01:02<00:21, 18.63it/s]\u001b[A\n",
      " 74%|███████▍  | 1162/1560 [01:02<00:21, 18.62it/s]\u001b[A\n",
      " 75%|███████▍  | 1164/1560 [01:02<00:21, 18.58it/s]\u001b[A\n",
      " 75%|███████▍  | 1166/1560 [01:02<00:21, 18.56it/s]\u001b[A\n",
      " 75%|███████▍  | 1168/1560 [01:03<00:21, 18.49it/s]\u001b[A\n",
      " 75%|███████▌  | 1170/1560 [01:03<00:21, 18.48it/s]\u001b[A\n",
      " 75%|███████▌  | 1172/1560 [01:03<00:21, 18.46it/s]\u001b[A\n",
      " 75%|███████▌  | 1174/1560 [01:03<00:20, 18.45it/s]\u001b[A\n",
      " 75%|███████▌  | 1176/1560 [01:03<00:20, 18.39it/s]\u001b[A\n",
      " 76%|███████▌  | 1178/1560 [01:04<00:20, 18.39it/s]\u001b[A\n",
      " 76%|███████▌  | 1180/1560 [01:04<00:20, 18.37it/s]\u001b[A\n",
      " 76%|███████▌  | 1184/1560 [01:04<00:20, 18.38it/s]\u001b[A\n",
      " 76%|███████▌  | 1186/1560 [01:04<00:20, 18.32it/s]\u001b[A\n",
      " 76%|███████▌  | 1188/1560 [01:04<00:20, 18.31it/s]\u001b[A\n",
      " 76%|███████▋  | 1192/1560 [01:05<00:20, 18.32it/s]\u001b[A\n",
      " 77%|███████▋  | 1194/1560 [01:05<00:19, 18.30it/s]\u001b[A\n",
      " 77%|███████▋  | 1196/1560 [01:05<00:19, 18.26it/s]\u001b[A\n",
      " 77%|███████▋  | 1198/1560 [01:05<00:19, 18.22it/s]\u001b[A\n",
      " 77%|███████▋  | 1200/1560 [01:05<00:19, 18.21it/s]\u001b[A\n",
      " 77%|███████▋  | 1202/1560 [01:06<00:19, 18.16it/s]\u001b[A\n",
      " 77%|███████▋  | 1204/1560 [01:06<00:19, 18.15it/s]\u001b[A\n",
      " 77%|███████▋  | 1206/1560 [01:06<00:19, 18.11it/s]\u001b[A\n",
      " 77%|███████▋  | 1208/1560 [01:06<00:19, 18.10it/s]\u001b[A\n",
      " 78%|███████▊  | 1210/1560 [01:06<00:19, 18.10it/s]\u001b[A\n",
      " 80%|████████  | 1249/1560 [01:06<00:16, 18.65it/s]\u001b[A\n",
      " 81%|████████  | 1260/1560 [01:07<00:16, 18.61it/s]\u001b[A\n",
      " 81%|████████▏ | 1268/1560 [01:08<00:15, 18.59it/s]\u001b[A\n",
      " 82%|████████▏ | 1274/1560 [01:08<00:15, 18.49it/s]\u001b[A\n",
      " 82%|████████▏ | 1279/1560 [01:09<00:15, 18.39it/s]\u001b[A\n",
      " 82%|████████▏ | 1283/1560 [01:09<00:15, 18.37it/s]\u001b[A\n",
      " 82%|████████▏ | 1286/1560 [01:10<00:14, 18.31it/s]\u001b[A\n",
      " 83%|████████▎ | 1289/1560 [01:10<00:14, 18.31it/s]\u001b[A\n",
      " 83%|████████▎ | 1292/1560 [01:10<00:14, 18.27it/s]\u001b[A\n",
      " 83%|████████▎ | 1294/1560 [01:10<00:14, 18.27it/s]\u001b[A\n",
      " 83%|████████▎ | 1298/1560 [01:10<00:14, 18.28it/s]\u001b[A\n",
      " 83%|████████▎ | 1300/1560 [01:11<00:14, 18.23it/s]\u001b[A\n",
      " 83%|████████▎ | 1302/1560 [01:11<00:14, 18.21it/s]\u001b[A\n",
      " 84%|████████▎ | 1306/1560 [01:11<00:13, 18.23it/s]\u001b[A\n",
      " 84%|████████▍ | 1308/1560 [01:11<00:13, 18.23it/s]\u001b[A\n",
      " 84%|████████▍ | 1310/1560 [01:12<00:13, 18.18it/s]\u001b[A\n",
      " 84%|████████▍ | 1312/1560 [01:12<00:13, 18.14it/s]\u001b[A\n",
      " 84%|████████▍ | 1314/1560 [01:12<00:13, 18.13it/s]\u001b[A\n",
      " 84%|████████▍ | 1316/1560 [01:12<00:13, 18.08it/s]\u001b[A\n",
      " 84%|████████▍ | 1318/1560 [01:12<00:13, 18.07it/s]\u001b[A\n",
      " 85%|████████▍ | 1320/1560 [01:13<00:13, 18.02it/s]\u001b[A\n",
      " 85%|████████▍ | 1322/1560 [01:13<00:13, 18.01it/s]\u001b[A\n",
      " 85%|████████▍ | 1324/1560 [01:13<00:13, 17.96it/s]\u001b[A\n",
      " 85%|████████▌ | 1326/1560 [01:13<00:13, 17.95it/s]\u001b[A\n",
      " 88%|████████▊ | 1366/1560 [01:13<00:10, 18.46it/s]\u001b[A\n",
      " 88%|████████▊ | 1376/1560 [01:14<00:09, 18.42it/s]\u001b[A\n",
      " 89%|████████▊ | 1384/1560 [01:15<00:09, 18.41it/s]\u001b[A\n",
      " 89%|████████▉ | 1390/1560 [01:15<00:09, 18.32it/s]\u001b[A\n",
      " 89%|████████▉ | 1395/1560 [01:16<00:09, 18.23it/s]\u001b[A\n",
      " 90%|████████▉ | 1399/1560 [01:17<00:08, 18.16it/s]\u001b[A\n",
      " 90%|████████▉ | 1402/1560 [01:17<00:08, 18.12it/s]\u001b[A\n",
      " 90%|█████████ | 1404/1560 [01:17<00:08, 18.11it/s]\u001b[A\n",
      " 90%|█████████ | 1406/1560 [01:17<00:08, 18.10it/s]\u001b[A\n",
      " 90%|█████████ | 1408/1560 [01:17<00:08, 18.09it/s]\u001b[A\n",
      " 91%|█████████ | 1412/1560 [01:17<00:08, 18.11it/s]\u001b[A\n",
      " 91%|█████████ | 1414/1560 [01:18<00:08, 18.07it/s]\u001b[A\n",
      " 91%|█████████ | 1416/1560 [01:18<00:07, 18.06it/s]\u001b[A\n",
      " 91%|█████████ | 1420/1560 [01:18<00:07, 18.08it/s]\u001b[A\n",
      " 91%|█████████ | 1423/1560 [01:18<00:07, 18.05it/s]\u001b[A\n",
      " 91%|█████████▏| 1425/1560 [01:19<00:07, 18.01it/s]\u001b[A\n",
      " 91%|█████████▏| 1427/1560 [01:19<00:07, 17.97it/s]\u001b[A\n",
      " 92%|█████████▏| 1429/1560 [01:19<00:07, 17.97it/s]\u001b[A\n",
      " 92%|█████████▏| 1431/1560 [01:19<00:07, 17.93it/s]\u001b[A\n",
      " 92%|█████████▏| 1433/1560 [01:19<00:07, 17.92it/s]\u001b[A\n",
      " 92%|█████████▏| 1435/1560 [01:20<00:06, 17.91it/s]\u001b[A\n",
      " 92%|█████████▏| 1437/1560 [01:20<00:06, 17.87it/s]\u001b[A\n",
      " 92%|█████████▏| 1439/1560 [01:20<00:06, 17.86it/s]\u001b[A\n",
      " 92%|█████████▏| 1441/1560 [01:20<00:06, 17.82it/s]\u001b[A\n",
      " 92%|█████████▎| 1443/1560 [01:21<00:06, 17.81it/s]\u001b[A\n",
      " 95%|█████████▌| 1483/1560 [01:21<00:04, 18.27it/s]\u001b[A\n",
      " 96%|█████████▌| 1493/1560 [01:21<00:03, 18.27it/s]\u001b[A\n",
      " 96%|█████████▌| 1500/1560 [01:22<00:03, 18.22it/s]\u001b[A\n",
      " 97%|█████████▋| 1506/1560 [01:23<00:02, 18.13it/s]\u001b[A\n",
      " 97%|█████████▋| 1510/1560 [01:23<00:02, 18.07it/s]\u001b[A\n",
      " 97%|█████████▋| 1513/1560 [01:23<00:02, 18.04it/s]\u001b[A\n",
      " 97%|█████████▋| 1516/1560 [01:24<00:02, 18.01it/s]\u001b[A\n",
      " 97%|█████████▋| 1518/1560 [01:24<00:02, 18.00it/s]\u001b[A\n",
      " 97%|█████████▋| 1520/1560 [01:24<00:02, 17.96it/s]\u001b[A\n",
      " 98%|█████████▊| 1526/1560 [01:24<00:01, 18.00it/s]\u001b[A\n",
      " 98%|█████████▊| 1529/1560 [01:25<00:01, 17.99it/s]\u001b[A\n",
      " 98%|█████████▊| 1531/1560 [01:25<00:01, 17.99it/s]\u001b[A\n",
      " 98%|█████████▊| 1534/1560 [01:25<00:01, 18.00it/s]\u001b[A\n",
      " 99%|█████████▊| 1537/1560 [01:25<00:01, 17.97it/s]\u001b[A\n",
      " 99%|█████████▊| 1539/1560 [01:25<00:01, 17.93it/s]\u001b[A\n",
      " 99%|█████████▉| 1541/1560 [01:26<00:01, 17.89it/s]\u001b[A\n",
      " 99%|█████████▉| 1543/1560 [01:26<00:00, 17.88it/s]\u001b[A\n",
      " 99%|█████████▉| 1545/1560 [01:26<00:00, 17.84it/s]\u001b[A\n",
      " 99%|█████████▉| 1547/1560 [01:26<00:00, 17.84it/s]\u001b[A\n",
      " 99%|█████████▉| 1549/1560 [01:26<00:00, 17.83it/s]\u001b[A\n",
      " 99%|█████████▉| 1551/1560 [01:27<00:00, 17.80it/s]\u001b[A\n",
      "100%|█████████▉| 1553/1560 [01:27<00:00, 17.80it/s]\u001b[A\n",
      "100%|█████████▉| 1555/1560 [01:27<00:00, 17.76it/s]\u001b[A\n",
      "100%|█████████▉| 1557/1560 [01:27<00:00, 17.76it/s]\u001b[A\n",
      "100%|█████████▉| 1559/1560 [01:27<00:00, 17.75it/s]\u001b[A\n",
      " 86%|████████▌ | 12/14 [03:55<00:39, 19.59s/it]t/s]\u001b[A\n",
      "  0%|          | 0/1332 [00:00<?, ?it/s]\u001b[A\n",
      "  3%|▎         | 38/1332 [00:00<00:05, 217.98it/s]\u001b[A\n",
      "  3%|▎         | 45/1332 [00:00<00:22, 58.00it/s] \u001b[A\n",
      "  4%|▍         | 50/1332 [00:01<00:31, 41.06it/s]\u001b[A\n",
      "  4%|▍         | 54/1332 [00:01<00:36, 35.10it/s]\u001b[A\n",
      "  4%|▍         | 58/1332 [00:01<00:43, 29.26it/s]\u001b[A\n",
      "  5%|▍         | 61/1332 [00:02<00:44, 28.53it/s]\u001b[A\n",
      "  5%|▌         | 69/1332 [00:02<00:41, 30.47it/s]\u001b[A\n",
      "  5%|▌         | 73/1332 [00:02<00:43, 28.63it/s]\u001b[A\n",
      "  8%|▊         | 109/1332 [00:02<00:30, 40.35it/s]\u001b[A\n",
      "  9%|▉         | 119/1332 [00:03<00:36, 33.02it/s]\u001b[A\n",
      "  9%|▉         | 126/1332 [00:04<00:40, 30.11it/s]\u001b[A\n",
      " 10%|▉         | 132/1332 [00:04<00:40, 29.46it/s]\u001b[A\n",
      " 10%|█         | 139/1332 [00:04<00:39, 29.98it/s]\u001b[A\n",
      " 11%|█         | 144/1332 [00:05<00:42, 28.23it/s]\u001b[A\n",
      " 11%|█         | 148/1332 [00:05<00:44, 26.55it/s]\u001b[A\n",
      " 11%|█▏        | 151/1332 [00:05<00:44, 26.45it/s]\u001b[A\n",
      " 12%|█▏        | 154/1332 [00:06<00:46, 25.39it/s]\u001b[A\n",
      " 12%|█▏        | 157/1332 [00:06<00:46, 25.12it/s]\u001b[A\n",
      " 12%|█▏        | 159/1332 [00:06<00:47, 24.73it/s]\u001b[A\n",
      " 12%|█▏        | 161/1332 [00:06<00:49, 23.87it/s]\u001b[A\n",
      " 12%|█▏        | 163/1332 [00:06<00:49, 23.65it/s]\u001b[A\n",
      " 12%|█▏        | 165/1332 [00:07<00:49, 23.38it/s]\u001b[A\n",
      " 13%|█▎        | 174/1332 [00:07<00:47, 24.15it/s]\u001b[A\n",
      " 13%|█▎        | 177/1332 [00:07<00:49, 23.53it/s]\u001b[A\n",
      " 14%|█▎        | 180/1332 [00:07<00:49, 23.08it/s]\u001b[A\n",
      " 16%|█▋        | 217/1332 [00:07<00:40, 27.25it/s]\u001b[A\n",
      " 17%|█▋        | 226/1332 [00:08<00:42, 26.30it/s]\u001b[A\n",
      " 17%|█▋        | 233/1332 [00:09<00:43, 25.00it/s]\u001b[A\n",
      " 18%|█▊        | 238/1332 [00:09<00:43, 25.10it/s]\u001b[A\n",
      " 18%|█▊        | 244/1332 [00:09<00:42, 25.34it/s]\u001b[A\n",
      " 19%|█▊        | 249/1332 [00:10<00:43, 24.71it/s]\u001b[A\n",
      " 19%|█▉        | 253/1332 [00:10<00:44, 23.98it/s]\u001b[A\n",
      " 19%|█▉        | 256/1332 [00:10<00:44, 23.92it/s]\u001b[A\n",
      " 19%|█▉        | 259/1332 [00:10<00:45, 23.57it/s]\u001b[A\n",
      " 20%|█▉        | 262/1332 [00:11<00:45, 23.52it/s]\u001b[A\n",
      " 20%|█▉        | 264/1332 [00:11<00:45, 23.35it/s]\u001b[A\n",
      " 20%|█▉        | 266/1332 [00:11<00:46, 22.97it/s]\u001b[A\n",
      " 20%|██        | 268/1332 [00:11<00:46, 22.84it/s]\u001b[A\n",
      " 20%|██        | 270/1332 [00:11<00:46, 22.70it/s]\u001b[A\n",
      " 21%|██        | 279/1332 [00:12<00:45, 23.21it/s]\u001b[A\n",
      " 21%|██        | 283/1332 [00:12<00:46, 22.65it/s]\u001b[A\n",
      " 21%|██▏       | 286/1332 [00:12<00:47, 22.25it/s]\u001b[A\n",
      " 22%|██▏       | 288/1332 [00:13<00:47, 22.05it/s]\u001b[A\n",
      " 22%|██▏       | 291/1332 [00:13<00:47, 21.97it/s]\u001b[A\n",
      " 22%|██▏       | 293/1332 [00:13<00:47, 21.85it/s]\u001b[A\n",
      " 22%|██▏       | 295/1332 [00:13<00:47, 21.74it/s]\u001b[A\n",
      " 22%|██▏       | 297/1332 [00:13<00:47, 21.59it/s]\u001b[A\n",
      " 22%|██▏       | 299/1332 [00:13<00:48, 21.43it/s]\u001b[A\n",
      " 23%|██▎       | 301/1332 [00:14<00:48, 21.13it/s]\u001b[A\n",
      " 23%|██▎       | 303/1332 [00:14<00:48, 21.04it/s]\u001b[A\n",
      " 23%|██▎       | 305/1332 [00:14<00:49, 20.92it/s]\u001b[A\n",
      " 24%|██▎       | 314/1332 [00:14<00:47, 21.35it/s]\u001b[A\n",
      " 24%|██▍       | 318/1332 [00:15<00:48, 21.04it/s]\u001b[A\n",
      " 24%|██▍       | 321/1332 [00:15<00:48, 20.84it/s]\u001b[A\n",
      " 24%|██▍       | 323/1332 [00:15<00:48, 20.77it/s]\u001b[A\n",
      " 24%|██▍       | 325/1332 [00:15<00:48, 20.70it/s]\u001b[A\n",
      " 30%|██▉       | 397/1332 [00:15<00:37, 25.04it/s]\u001b[A\n",
      " 31%|███       | 413/1332 [00:16<00:37, 24.48it/s]\u001b[A\n",
      " 32%|███▏      | 425/1332 [00:17<00:37, 24.13it/s]\u001b[A\n",
      " 33%|███▎      | 434/1332 [00:18<00:37, 23.67it/s]\u001b[A\n",
      " 33%|███▎      | 441/1332 [00:18<00:38, 23.29it/s]\u001b[A\n",
      " 33%|███▎      | 446/1332 [00:19<00:38, 23.11it/s]\u001b[A\n",
      " 34%|███▍      | 454/1332 [00:19<00:37, 23.32it/s]\u001b[A\n",
      " 34%|███▍      | 458/1332 [00:19<00:38, 22.91it/s]\u001b[A\n",
      " 35%|███▍      | 462/1332 [00:20<00:38, 22.76it/s]\u001b[A\n",
      " 35%|███▍      | 465/1332 [00:20<00:38, 22.44it/s]\u001b[A\n",
      " 35%|███▌      | 468/1332 [00:20<00:38, 22.42it/s]\u001b[A\n",
      " 38%|███▊      | 507/1332 [00:21<00:34, 24.13it/s]\u001b[A\n",
      " 39%|███▉      | 517/1332 [00:21<00:34, 23.74it/s]\u001b[A\n",
      " 39%|███▉      | 525/1332 [00:22<00:33, 23.80it/s]\u001b[A\n",
      " 40%|███▉      | 531/1332 [00:22<00:34, 23.43it/s]\u001b[A\n",
      " 40%|████      | 536/1332 [00:23<00:34, 23.22it/s]\u001b[A\n",
      " 41%|████      | 540/1332 [00:23<00:34, 23.07it/s]\u001b[A\n",
      " 46%|████▌     | 613/1332 [00:23<00:27, 25.99it/s]\u001b[A\n",
      " 47%|████▋     | 628/1332 [00:24<00:27, 25.83it/s]\u001b[A\n",
      " 48%|████▊     | 639/1332 [00:25<00:27, 25.11it/s]\u001b[A\n",
      " 49%|████▊     | 647/1332 [00:26<00:27, 24.87it/s]\u001b[A\n",
      " 49%|████▉     | 653/1332 [00:26<00:27, 24.68it/s]\u001b[A\n",
      " 49%|████▉     | 658/1332 [00:26<00:27, 24.73it/s]\u001b[A\n",
      " 50%|████▉     | 664/1332 [00:26<00:26, 24.85it/s]\u001b[A\n",
      " 50%|█████     | 669/1332 [00:27<00:26, 24.65it/s]\u001b[A\n",
      " 51%|█████     | 673/1332 [00:27<00:27, 24.40it/s]\u001b[A\n",
      " 51%|█████     | 676/1332 [00:27<00:27, 24.28it/s]\u001b[A\n",
      " 51%|█████     | 679/1332 [00:28<00:27, 24.12it/s]\u001b[A\n",
      " 51%|█████     | 681/1332 [00:28<00:27, 24.06it/s]\u001b[A\n",
      " 51%|█████▏    | 684/1332 [00:28<00:26, 24.05it/s]\u001b[A\n",
      " 54%|█████▍    | 721/1332 [00:28<00:24, 25.21it/s]\u001b[A\n",
      " 55%|█████▍    | 730/1332 [00:28<00:23, 25.27it/s]\u001b[A\n",
      " 55%|█████▌    | 737/1332 [00:29<00:23, 25.11it/s]\u001b[A\n",
      " 56%|█████▌    | 743/1332 [00:29<00:23, 24.84it/s]\u001b[A\n",
      " 56%|█████▌    | 747/1332 [00:30<00:23, 24.74it/s]\u001b[A\n",
      " 56%|█████▋    | 751/1332 [00:30<00:23, 24.47it/s]\u001b[A\n",
      " 57%|█████▋    | 754/1332 [00:30<00:23, 24.45it/s]\u001b[A\n",
      " 57%|█████▋    | 757/1332 [00:30<00:23, 24.42it/s]\u001b[A\n",
      " 57%|█████▋    | 760/1332 [00:31<00:23, 24.28it/s]\u001b[A\n",
      " 58%|█████▊    | 769/1332 [00:31<00:23, 24.45it/s]\u001b[A\n",
      " 58%|█████▊    | 773/1332 [00:31<00:23, 24.23it/s]\u001b[A\n",
      " 58%|█████▊    | 776/1332 [00:32<00:23, 24.10it/s]\u001b[A\n",
      " 58%|█████▊    | 779/1332 [00:32<00:23, 23.96it/s]\u001b[A\n",
      " 59%|█████▊    | 781/1332 [00:32<00:23, 23.91it/s]\u001b[A\n",
      " 59%|█████▉    | 783/1332 [00:32<00:23, 23.85it/s]\u001b[A\n",
      " 59%|█████▉    | 785/1332 [00:32<00:22, 23.80it/s]\u001b[A\n",
      " 59%|█████▉    | 787/1332 [00:33<00:22, 23.75it/s]\u001b[A\n",
      " 59%|█████▉    | 789/1332 [00:33<00:22, 23.70it/s]\u001b[A\n",
      " 59%|█████▉    | 791/1332 [00:33<00:22, 23.66it/s]\u001b[A\n",
      " 60%|█████▉    | 793/1332 [00:33<00:22, 23.60it/s]\u001b[A\n",
      " 62%|██████▏   | 830/1332 [00:33<00:20, 24.60it/s]\u001b[A\n",
      " 63%|██████▎   | 839/1332 [00:33<00:19, 24.78it/s]\u001b[A\n",
      " 64%|██████▎   | 848/1332 [00:34<00:19, 24.37it/s]\u001b[A\n",
      " 64%|██████▍   | 855/1332 [00:35<00:19, 24.16it/s]\u001b[A\n",
      " 65%|██████▍   | 860/1332 [00:35<00:19, 23.99it/s]\u001b[A\n",
      " 65%|██████▍   | 864/1332 [00:36<00:19, 23.92it/s]\u001b[A\n",
      " 68%|██████▊   | 909/1332 [00:36<00:16, 25.06it/s]\u001b[A\n",
      " 69%|██████▉   | 920/1332 [00:37<00:16, 24.42it/s]\u001b[A\n",
      " 70%|██████▉   | 928/1332 [00:38<00:16, 24.35it/s]\u001b[A\n",
      " 70%|███████   | 934/1332 [00:38<00:16, 24.10it/s]\u001b[A\n",
      " 70%|███████   | 939/1332 [00:38<00:16, 24.14it/s]\u001b[A\n",
      " 92%|█████████▏| 1225/1332 [00:39<00:03, 31.38it/s]\u001b[A\n",
      " 97%|█████████▋| 1290/1332 [00:43<00:01, 29.47it/s]\u001b[A\n",
      " 93%|█████████▎| 13/14 [04:41<00:21, 21.67s/it]t/s]\u001b[A\n",
      "  0%|          | 0/870 [00:00<?, ?it/s]\u001b[A\n",
      "  4%|▎         | 32/870 [00:00<00:04, 203.04it/s]\u001b[A\n",
      "  4%|▍         | 39/870 [00:00<00:16, 50.45it/s] \u001b[A\n",
      "  5%|▌         | 44/870 [00:01<00:20, 40.22it/s]\u001b[A\n",
      "  6%|▌         | 48/870 [00:01<00:21, 38.38it/s]\u001b[A\n",
      "  6%|▌         | 53/870 [00:01<00:21, 37.56it/s]\u001b[A\n",
      "  7%|▋         | 57/870 [00:01<00:24, 33.45it/s]\u001b[A\n",
      " 13%|█▎        | 117/870 [00:01<00:11, 63.44it/s]\u001b[A\n",
      " 15%|█▌        | 132/870 [00:02<00:15, 48.37it/s]\u001b[A\n",
      " 16%|█▋        | 143/870 [00:03<00:16, 42.96it/s]\u001b[A\n",
      " 17%|█▋        | 152/870 [00:03<00:17, 39.92it/s]\u001b[A\n",
      " 18%|█▊        | 159/870 [00:04<00:19, 37.09it/s]\u001b[A\n",
      " 19%|█▉        | 165/870 [00:04<00:19, 36.95it/s]\u001b[A\n",
      " 20%|█▉        | 170/870 [00:04<00:19, 35.51it/s]\u001b[A\n",
      " 20%|██        | 174/870 [00:05<00:20, 34.27it/s]\u001b[A\n",
      " 24%|██▎       | 205/870 [00:05<00:17, 39.09it/s]\u001b[A\n",
      " 24%|██▍       | 213/870 [00:05<00:18, 36.17it/s]\u001b[A\n",
      " 25%|██▌       | 221/870 [00:06<00:17, 36.62it/s]\u001b[A\n",
      " 26%|██▌       | 227/870 [00:06<00:18, 34.71it/s]\u001b[A\n",
      " 27%|██▋       | 232/870 [00:06<00:19, 33.57it/s]\u001b[A\n",
      " 30%|███       | 263/870 [00:07<00:16, 37.22it/s]\u001b[A\n",
      " 31%|███▏      | 272/870 [00:07<00:16, 36.33it/s]\u001b[A\n",
      " 32%|███▏      | 279/870 [00:07<00:16, 36.38it/s]\u001b[A\n",
      " 33%|███▎      | 285/870 [00:08<00:16, 35.05it/s]\u001b[A\n",
      " 33%|███▎      | 290/870 [00:08<00:17, 33.75it/s]\u001b[A\n",
      " 37%|███▋      | 321/870 [00:08<00:14, 36.68it/s]\u001b[A\n",
      " 38%|███▊      | 330/870 [00:09<00:14, 36.33it/s]\u001b[A\n",
      " 39%|███▊      | 337/870 [00:09<00:15, 35.38it/s]\u001b[A\n",
      " 39%|███▉      | 343/870 [00:09<00:15, 34.31it/s]\u001b[A\n",
      " 40%|███▉      | 347/870 [00:10<00:15, 33.55it/s]\u001b[A\n",
      " 43%|████▎     | 378/870 [00:10<00:13, 36.06it/s]\u001b[A\n",
      " 44%|████▍     | 387/870 [00:10<00:13, 36.36it/s]\u001b[A\n",
      " 45%|████▌     | 395/870 [00:11<00:13, 35.13it/s]\u001b[A\n",
      " 46%|████▌     | 401/870 [00:11<00:13, 34.30it/s]\u001b[A\n",
      " 47%|████▋     | 406/870 [00:11<00:13, 33.88it/s]\u001b[A\n",
      " 47%|████▋     | 410/870 [00:12<00:13, 33.69it/s]\u001b[A\n"
     ]
    },
    {
     "name": "stderr",
     "output_type": "stream",
     "text": [
      " 48%|████▊     | 417/870 [00:12<00:13, 33.85it/s]\u001b[A\n",
      " 48%|████▊     | 421/870 [00:12<00:13, 33.23it/s]\u001b[A\n",
      " 49%|████▊     | 424/870 [00:12<00:13, 33.09it/s]\u001b[A\n",
      " 49%|████▉     | 427/870 [00:13<00:13, 32.54it/s]\u001b[A\n",
      " 49%|████▉     | 430/870 [00:13<00:13, 32.43it/s]\u001b[A\n",
      " 50%|████▉     | 433/870 [00:13<00:13, 31.88it/s]\u001b[A\n",
      " 50%|█████     | 435/870 [00:13<00:13, 31.64it/s]\u001b[A\n",
      " 58%|█████▊    | 501/870 [00:13<00:10, 36.05it/s]\u001b[A\n",
      " 59%|█████▉    | 516/870 [00:14<00:10, 34.46it/s]\u001b[A\n",
      " 61%|██████    | 527/870 [00:15<00:10, 34.11it/s]\u001b[A\n",
      " 84%|████████▎ | 728/870 [00:15<00:03, 46.59it/s]\u001b[A\n",
      " 88%|████████▊ | 768/870 [00:17<00:02, 44.80it/s]\u001b[A\n",
      " 93%|█████████▎| 813/870 [00:17<00:01, 47.05it/s]\u001b[A\n",
      " 97%|█████████▋| 844/870 [00:18<00:00, 44.55it/s]\u001b[A\n",
      "100%|█████████▉| 866/870 [00:20<00:00, 43.08it/s]\u001b[A\n",
      "100%|██████████| 14/14 [05:02<00:00, 21.58s/it]s]\u001b[A\n"
     ]
    }
   ],
   "source": [
    "sem_pairs = []\n",
    "syn_pairs = []\n",
    "\n",
    "w2v_acc = defaultdict(list)\n",
    "lsa_acc = defaultdict(list)\n",
    "\n",
    "for key, pairs in tqdm(cat_pairs.items()):\n",
    "    \n",
    "    cat = cat_types[key]\n",
    "    \n",
    "    for pair in tqdm(pairs):\n",
    "        w1, w2 = pair[0]\n",
    "        w3, w4 = pair[1]\n",
    "        \n",
    "        if (w1 in lsa_w2i) and (w2 in lsa_w2i) and (w3 in lsa_w2i) and (w4 in lsa_w2i):\n",
    "            if cat == 'semantic':\n",
    "                sem_pairs.append([(w1, w2), (w3, w4)])\n",
    "            else:\n",
    "                syn_pairs.append([(w1, w2), (w3, w4)])\n",
    "            \n",
    "            #w2v\n",
    "            res_word = w2v.most_similar(positive=[w3, w2], negative=[w1], topn=1)\n",
    "            if res_word[0][0] == w4:\n",
    "                w2v_acc[key].append(1)\n",
    "            else:\n",
    "                w2v_acc[key].append(0)\n",
    "                \n",
    "            \n",
    "            #lsa\n",
    "            res_word = lsa2vec.most_similar(positive=[w3,w2], negative=[w1], topn=1)\n",
    "            if res_word[0][0] == w4:\n",
    "                lsa_acc[key].append(1)\n",
    "            else:\n",
    "                lsa_acc[key].append(0)\n",
    "            "
   ]
  },
  {
   "cell_type": "code",
   "execution_count": 93,
   "metadata": {},
   "outputs": [
    {
     "name": "stdout",
     "output_type": "stream",
     "text": [
      "1895 104\n"
     ]
    }
   ],
   "source": [
    "print(len(syn_pairs), len(sem_pairs))"
   ]
  },
  {
   "cell_type": "code",
   "execution_count": 33,
   "metadata": {},
   "outputs": [
    {
     "name": "stdout",
     "output_type": "stream",
     "text": [
      "capital-common-countries\t8\t7\t0.875\n",
      "capital-world\t3\t3\t1.0\n",
      "city-in-state\t37\t32\t0.8648648648648649\n",
      "family\t56\t49\t0.875\n",
      "gram1-adjective-to-adverb\t272\t84\t0.3088235294117647\n",
      "gram2-opposite\t20\t4\t0.2\n",
      "gram3-comparative\t210\t177\t0.8428571428571429\n",
      "gram4-superlative\t30\t27\t0.9\n",
      "gram5-present-participle\t272\t213\t0.7830882352941176\n",
      "gram6-nationality-adjective\t53\t46\t0.8679245283018868\n",
      "gram7-past-tense\t600\t441\t0.735\n",
      "gram8-plural\t306\t249\t0.8137254901960784\n",
      "gram9-plural-verbs\t132\t105\t0.7954545454545454\n",
      "Total: \t1999\t1437\t0.7188594297148574\n"
     ]
    }
   ],
   "source": [
    "total = 0\n",
    "correct = 0\n",
    "\n",
    "for cat, scores in w2v_acc.items():\n",
    "    print(cat, len(scores), np.sum(scores), np.sum(scores)/len(scores), sep='\\t')\n",
    "    total += len(scores)\n",
    "    correct += np.sum(scores)\n",
    "print(\"Total: \", total, correct, correct/total, sep='\\t')"
   ]
  },
  {
   "cell_type": "code",
   "execution_count": 34,
   "metadata": {},
   "outputs": [
    {
     "name": "stdout",
     "output_type": "stream",
     "text": [
      "capital-common-countries\t8\t0\t0.0\n",
      "capital-world\t3\t0\t0.0\n",
      "city-in-state\t37\t0\t0.0\n",
      "family\t56\t8\t0.14285714285714285\n",
      "gram1-adjective-to-adverb\t272\t0\t0.0\n",
      "gram2-opposite\t20\t0\t0.0\n",
      "gram3-comparative\t210\t54\t0.2571428571428571\n",
      "gram4-superlative\t30\t4\t0.13333333333333333\n",
      "gram5-present-participle\t272\t30\t0.11029411764705882\n",
      "gram6-nationality-adjective\t53\t1\t0.018867924528301886\n",
      "gram7-past-tense\t600\t93\t0.155\n",
      "gram8-plural\t306\t5\t0.016339869281045753\n",
      "gram9-plural-verbs\t132\t13\t0.09848484848484848\n",
      "Total: \t1999\t208\t0.1040520260130065\n"
     ]
    }
   ],
   "source": [
    "total = 0\n",
    "correct = 0\n",
    "for cat, scores in lsa_acc.items():\n",
    "    print(cat, len(scores), np.sum(scores), np.sum(scores)/len(scores), sep='\\t')\n",
    "    total += len(scores)\n",
    "    correct += np.sum(scores)\n",
    "print(\"Total: \", total, correct, correct/total, sep='\\t')"
   ]
  },
  {
   "cell_type": "code",
   "execution_count": null,
   "metadata": {},
   "outputs": [],
   "source": []
  },
  {
   "cell_type": "code",
   "execution_count": null,
   "metadata": {},
   "outputs": [],
   "source": []
  },
  {
   "cell_type": "code",
   "execution_count": null,
   "metadata": {},
   "outputs": [],
   "source": []
  },
  {
   "cell_type": "markdown",
   "metadata": {},
   "source": [
    "## Diachronic "
   ]
  },
  {
   "cell_type": "code",
   "execution_count": 78,
   "metadata": {},
   "outputs": [],
   "source": [
    "with open('./data.pkl', 'rb') as f:\n",
    "    data = pkl.load(f)"
   ]
  },
  {
   "cell_type": "code",
   "execution_count": null,
   "metadata": {},
   "outputs": [],
   "source": [
    "type(data)"
   ]
  },
  {
   "cell_type": "code",
   "execution_count": 10,
   "metadata": {},
   "outputs": [
    {
     "data": {
      "text/plain": [
       "dict_keys(['w', 'd', 'E'])"
      ]
     },
     "execution_count": 10,
     "metadata": {},
     "output_type": "execute_result"
    }
   ],
   "source": [
    "data.keys()"
   ]
  },
  {
   "cell_type": "code",
   "execution_count": 14,
   "metadata": {},
   "outputs": [
    {
     "name": "stdout",
     "output_type": "stream",
     "text": [
      "[1900, 1910, 1920, 1930, 1940, 1950, 1960, 1970, 1980, 1990]\n"
     ]
    }
   ],
   "source": [
    "print(data['d'][:10])"
   ]
  },
  {
   "cell_type": "code",
   "execution_count": 15,
   "metadata": {},
   "outputs": [
    {
     "name": "stdout",
     "output_type": "stream",
     "text": [
      "['time', 'man', 'years', 'part', 'way', 'life', 'people', 'work', 'world', 'states']\n"
     ]
    }
   ],
   "source": [
    "print(data['w'][:10])"
   ]
  },
  {
   "cell_type": "code",
   "execution_count": 16,
   "metadata": {},
   "outputs": [
    {
     "name": "stdout",
     "output_type": "stream",
     "text": [
      "2000 10\n"
     ]
    }
   ],
   "source": [
    "print(len(data['w']), len(data['d']))"
   ]
  },
  {
   "cell_type": "code",
   "execution_count": 94,
   "metadata": {},
   "outputs": [
    {
     "name": "stdout",
     "output_type": "stream",
     "text": [
      "2000 10 300\n"
     ]
    }
   ],
   "source": [
    "print(len(data['E']), len(data['E'][0]), len(data['E'][0][0]))"
   ]
  },
  {
   "cell_type": "code",
   "execution_count": 95,
   "metadata": {},
   "outputs": [],
   "source": [
    "#absolute cosine shift\n",
    "cosine_dists = np.zeros((len(data['w']), len(data['d'])))"
   ]
  },
  {
   "cell_type": "code",
   "execution_count": 96,
   "metadata": {},
   "outputs": [],
   "source": [
    "for i, word in enumerate(data['w']):\n",
    "    for j, time in enumerate(data['d']):\n",
    "        emb_0 = data['E'][i][0]\n",
    "        emb_cur = data['E'][i][j]\n",
    "        \n",
    "        cosine_dist = cosine_distances([emb_0], [emb_cur])\n",
    "        \n",
    "        cosine_dists[i][j] = cosine_dist[0][0]\n",
    "        \n",
    "        "
   ]
  },
  {
   "cell_type": "code",
   "execution_count": 59,
   "metadata": {},
   "outputs": [
    {
     "data": {
      "text/plain": [
       "array([1.11022302e-16, 2.40042536e-01, 2.76247899e-01, 3.10148051e-01,\n",
       "       3.39879228e-01, 3.80664127e-01, 3.51987662e-01, 4.13233229e-01,\n",
       "       4.41934162e-01, 4.45843819e-01])"
      ]
     },
     "execution_count": 59,
     "metadata": {},
     "output_type": "execute_result"
    }
   ],
   "source": [
    "cosine_dists[10]"
   ]
  },
  {
   "cell_type": "code",
   "execution_count": 97,
   "metadata": {},
   "outputs": [
    {
     "data": {
      "text/plain": [
       "array([1., 1., 1., 1., 1., 1., 1., 1., 1., 1.])"
      ]
     },
     "execution_count": 97,
     "metadata": {},
     "output_type": "execute_result"
    }
   ],
   "source": [
    "cosine_dists[1729]"
   ]
  },
  {
   "cell_type": "code",
   "execution_count": null,
   "metadata": {},
   "outputs": [],
   "source": []
  },
  {
   "cell_type": "code",
   "execution_count": null,
   "metadata": {},
   "outputs": [],
   "source": []
  },
  {
   "cell_type": "code",
   "execution_count": null,
   "metadata": {},
   "outputs": [],
   "source": []
  },
  {
   "cell_type": "code",
   "execution_count": 98,
   "metadata": {},
   "outputs": [],
   "source": [
    "#to previous time period\n",
    "seq_cosine_dists = np.zeros((len(data['w']), len(data['d'])))\n",
    "\n",
    "for i, word in enumerate(data['w']):\n",
    "    for j, time in enumerate(data['d']):\n",
    "        prev = max(0, j-1)\n",
    "        emb_0 = data['E'][i][prev]\n",
    "        emb_cur = data['E'][i][j]\n",
    "        \n",
    "        cosine_dist = cosine_distances([emb_0], [emb_cur])\n",
    "        \n",
    "        seq_cosine_dists[i][j] = cosine_dist[0][0]\n",
    "        \n",
    "        "
   ]
  },
  {
   "cell_type": "code",
   "execution_count": 71,
   "metadata": {},
   "outputs": [
    {
     "data": {
      "text/plain": [
       "1.1102230246251565e-16"
      ]
     },
     "execution_count": 71,
     "metadata": {},
     "output_type": "execute_result"
    }
   ],
   "source": [
    "seq_cosine_dists[10][0]"
   ]
  },
  {
   "cell_type": "code",
   "execution_count": 74,
   "metadata": {},
   "outputs": [
    {
     "data": {
      "text/plain": [
       "1.0"
      ]
     },
     "execution_count": 74,
     "metadata": {},
     "output_type": "execute_result"
    }
   ],
   "source": [
    "seq_cosine_dists[1729][0]"
   ]
  },
  {
   "cell_type": "code",
   "execution_count": 75,
   "metadata": {},
   "outputs": [
    {
     "data": {
      "text/plain": [
       "array([[1.]])"
      ]
     },
     "execution_count": 75,
     "metadata": {},
     "output_type": "execute_result"
    }
   ],
   "source": [
    "cosine_distances([data['E'][1729][0]], [data['E'][1729][0]])"
   ]
  },
  {
   "cell_type": "code",
   "execution_count": 81,
   "metadata": {
    "scrolled": true
   },
   "outputs": [
    {
     "data": {
      "text/plain": [
       "array([-1.81055476e-03, -1.54139611e-01, -4.26769624e-03,  3.06172588e-02,\n",
       "       -2.72900091e-02, -9.67188421e-03, -3.63618990e-02, -1.00950152e-01,\n",
       "       -8.84866629e-02,  2.21253273e-02,  1.23566761e-01,  1.41228497e-02,\n",
       "       -1.15203107e-01,  3.30992802e-02, -4.68502684e-03, -1.00116137e-01,\n",
       "       -6.54667459e-02, -6.77952637e-02, -5.30799892e-02, -3.55191222e-02,\n",
       "        9.97434254e-03,  9.11105966e-02, -4.71750646e-02,  3.18980588e-02,\n",
       "        9.58000002e-02, -1.05769928e-02,  5.91897595e-03, -1.01981655e-01,\n",
       "       -6.85238753e-04,  3.47827863e-02, -8.34751329e-02, -2.97091614e-02,\n",
       "        9.59759524e-02, -2.37337241e-02, -8.50445282e-02, -3.05751388e-02,\n",
       "        2.50523646e-02, -7.58439886e-02, -7.44064012e-04, -1.60911086e-03,\n",
       "       -2.25092512e-02, -1.27947188e-02,  5.69754014e-02,  1.69191381e-02,\n",
       "        9.44243246e-02,  4.45309344e-03,  4.12073632e-02,  8.20883686e-02,\n",
       "       -2.27110429e-02, -4.20916226e-03,  3.45436625e-02,  4.65754250e-02,\n",
       "       -8.05923641e-02,  6.76743998e-02, -6.77173268e-03,  5.34822549e-02,\n",
       "        3.94959540e-02, -5.96544167e-02,  8.19189836e-02,  1.00560717e-02,\n",
       "       -8.20995600e-02, -2.10402292e-02, -1.89779786e-02, -1.55034411e-02,\n",
       "        6.91875322e-02, -9.98700661e-02,  4.79583995e-02, -4.17467389e-02,\n",
       "       -3.08984106e-02,  3.26168560e-02, -2.18892559e-02, -7.06761760e-02,\n",
       "        9.21685727e-02,  1.16061399e-02, -4.87280995e-03, -3.07609882e-02,\n",
       "        1.33318028e-01, -6.81937662e-04, -3.85994122e-02,  5.64349554e-02,\n",
       "       -1.15269388e-01, -6.96145136e-02,  1.31136040e-02, -6.36559760e-02,\n",
       "        1.65535461e-02, -1.07777458e-01,  2.03950190e-02, -1.09976489e-02,\n",
       "        1.70888272e-02,  1.03870917e-01, -2.50312829e-03, -7.99488225e-02,\n",
       "       -1.57142016e-02,  2.92207927e-04,  4.83489061e-02, -1.83431788e-02,\n",
       "       -3.52856354e-02,  9.01190905e-02, -7.34947708e-03, -3.17839601e-02,\n",
       "        3.50068777e-02,  2.35893775e-02,  1.09445531e-01, -1.14641258e-02,\n",
       "        1.37014820e-03, -3.97219974e-02, -7.54784600e-03,  1.13267419e-02,\n",
       "       -4.48694786e-02,  5.75026071e-02, -2.65313530e-02, -1.26963371e-02,\n",
       "        3.42498378e-04, -3.50330250e-02,  6.96624629e-02,  5.12857863e-02,\n",
       "        5.43910975e-02,  9.87863699e-02,  7.86616849e-02,  2.20971482e-02,\n",
       "       -8.71851439e-02,  3.01081548e-02, -1.01388964e-02, -1.81883462e-02,\n",
       "       -8.08147023e-02, -3.35662486e-02,  1.47630329e-02,  1.59756346e-02,\n",
       "       -8.74293547e-02,  1.09975829e-01,  7.93292618e-03, -2.06810308e-02,\n",
       "        1.37266760e-01, -4.13323490e-02, -2.22340581e-02, -6.43501075e-02,\n",
       "       -3.48466063e-03, -3.01201628e-02, -4.30195812e-02, -3.88004389e-02,\n",
       "        9.14743789e-02,  3.45215497e-02,  3.69056672e-02,  3.23806398e-02,\n",
       "        7.40939523e-02,  4.14264049e-02,  3.50424067e-02,  5.37625751e-02,\n",
       "        3.62144501e-02, -1.00668297e-01,  6.75756350e-02, -1.25202299e-01,\n",
       "        2.28117111e-02,  3.81859976e-02,  4.01747609e-02,  3.63159330e-02,\n",
       "       -4.00095544e-02, -5.08113417e-02,  4.34483781e-02,  6.06327435e-02,\n",
       "       -1.29774496e-01,  1.15744316e-01,  2.22324502e-02, -3.01247304e-02,\n",
       "       -5.66298193e-02,  4.79630527e-02,  8.22965664e-02,  1.20465604e-02,\n",
       "        2.71216611e-02, -4.14211793e-02,  1.50384359e-02,  4.53261840e-02,\n",
       "        8.37721953e-02, -3.21135336e-02, -8.16755825e-03,  4.57520112e-02,\n",
       "        9.62301824e-02, -2.66889943e-02, -2.87619068e-02,  7.33128378e-02,\n",
       "        3.39318703e-02, -3.57877494e-02,  4.55271550e-03,  1.84078654e-02,\n",
       "        3.67868819e-02,  1.03638380e-02,  6.95439688e-02,  1.10816457e-01,\n",
       "        5.20588759e-02, -2.12970151e-03, -6.45632997e-02,  3.80217968e-03,\n",
       "       -1.03080503e-02, -3.62552403e-02, -5.17628703e-02,  3.87232326e-02,\n",
       "       -5.33715517e-02,  1.10088919e-01, -1.89364835e-02,  1.01878331e-02,\n",
       "        1.87391085e-02, -3.90977963e-02,  1.31692591e-01,  1.16995727e-02,\n",
       "       -1.35365273e-01,  2.32211292e-02, -6.28615061e-02, -2.14311997e-02,\n",
       "       -9.44559012e-03,  6.62719637e-02,  4.20165307e-02, -1.59305861e-02,\n",
       "        4.76250541e-02, -5.21642504e-02, -3.58758152e-02,  4.98122301e-02,\n",
       "        1.64062076e-04,  4.83323930e-02, -4.79163802e-02, -7.51058568e-02,\n",
       "        3.46321937e-02, -4.34418145e-02, -7.42426945e-03,  6.11061581e-02,\n",
       "        1.79957909e-03, -3.92347173e-02,  1.74151617e-03, -3.69125571e-02,\n",
       "       -4.84678172e-04,  2.11403951e-02,  7.28146275e-02,  1.00505122e-01,\n",
       "       -1.87885409e-01,  2.67159297e-02, -1.54677802e-02, -1.16524184e-01,\n",
       "        2.49101621e-02,  5.02278055e-02, -3.20754494e-02,  6.77925964e-03,\n",
       "       -3.41298177e-02,  1.29516210e-02, -3.90123125e-02, -5.09910656e-02,\n",
       "       -8.14520293e-02, -6.27324780e-02,  9.83482978e-02, -5.52172182e-02,\n",
       "        2.15501066e-02,  9.10548819e-02,  4.14383234e-02,  1.43291670e-02,\n",
       "        1.60950252e-02, -1.12029085e-02,  6.62445304e-03,  7.97784822e-02,\n",
       "       -3.46647077e-02, -3.31570502e-02,  4.93089911e-04, -5.50998942e-03,\n",
       "       -1.26528526e-03, -2.52393278e-03,  2.50630163e-02, -6.34809353e-03,\n",
       "       -4.87935383e-02, -1.12651386e-02,  8.92628230e-02,  6.28011605e-02,\n",
       "        1.97118293e-01, -1.92505919e-02,  2.03052264e-02,  8.24006864e-02,\n",
       "        2.62353382e-02, -1.64179450e-02, -1.10229318e-01, -5.16416088e-03,\n",
       "        3.60845595e-02,  1.18056519e-01,  3.92948844e-02, -6.29140663e-02,\n",
       "        5.95654473e-02, -6.51618739e-02, -8.21976922e-02,  3.50137542e-02,\n",
       "        1.96495036e-02,  2.74766560e-03,  3.59655143e-02,  6.72723039e-02,\n",
       "       -3.01076980e-02, -5.24178830e-02,  8.35862903e-02,  5.06779788e-02,\n",
       "       -1.11925768e-02, -4.05710620e-02, -1.32078935e-02,  9.29468581e-02,\n",
       "       -2.10323008e-03,  3.55446643e-02, -3.54685822e-02, -5.43652010e-02])"
      ]
     },
     "execution_count": 81,
     "metadata": {},
     "output_type": "execute_result"
    }
   ],
   "source": [
    "data['E'][10][0]"
   ]
  },
  {
   "cell_type": "code",
   "execution_count": 77,
   "metadata": {},
   "outputs": [
    {
     "data": {
      "text/plain": [
       "array([[0.]])"
      ]
     },
     "execution_count": 77,
     "metadata": {},
     "output_type": "execute_result"
    }
   ],
   "source": [
    "cosine_similarity([data['E'][1729][0]], [data['E'][1729][0]])"
   ]
  },
  {
   "cell_type": "code",
   "execution_count": null,
   "metadata": {},
   "outputs": [],
   "source": []
  },
  {
   "cell_type": "code",
   "execution_count": null,
   "metadata": {},
   "outputs": [],
   "source": []
  },
  {
   "cell_type": "code",
   "execution_count": null,
   "metadata": {},
   "outputs": [],
   "source": []
  },
  {
   "cell_type": "code",
   "execution_count": 114,
   "metadata": {},
   "outputs": [],
   "source": [
    "#closest words\n",
    "nn_10 = []\n",
    "for j, time_period in enumerate(data['d']):\n",
    "    nn_10.append([])\n",
    "    emb_matrix = np.zeros((len(data['w']), 300))\n",
    "    for i, w in enumerate(data['w']):\n",
    "        emb_matrix[i] = data['E'][i][j]\n",
    "    \n",
    "    cosine_sims = cosine_similarity(emb_matrix)\n",
    "    \n",
    "    for i, word in enumerate(data['w']):\n",
    "        top_ind = np.argsort(cosine_sims[i])[::-1]\n",
    "        top_10 = []\n",
    "        ind = 0\n",
    "        while len(top_10) < 10:\n",
    "            if top_ind[ind] != i:\n",
    "                top_10.append(top_ind[ind])\n",
    "            ind += 1\n",
    "        \n",
    "        assert len(top_10) == 10\n",
    "                \n",
    "        nn_10[j].append(top_10)"
   ]
  },
  {
   "cell_type": "code",
   "execution_count": 115,
   "metadata": {},
   "outputs": [
    {
     "name": "stdout",
     "output_type": "stream",
     "text": [
      "10 2000 10 [47, 1571, 51, 2, 164, 451, 1013, 21, 11, 200] [51, 47, 451, 164, 1571, 2, 136, 1013, 21, 1598]\n"
     ]
    }
   ],
   "source": [
    "print(len(nn_10), len(nn_10[0]), len(nn_10[0][0]), nn_10[0][0], nn_10[1][0])\n"
   ]
  },
  {
   "cell_type": "code",
   "execution_count": null,
   "metadata": {},
   "outputs": [],
   "source": []
  },
  {
   "cell_type": "code",
   "execution_count": 40,
   "metadata": {},
   "outputs": [],
   "source": [
    "#measure change\n",
    "#matrices: cosine_dists, seq_cosine_dists, nn_10\n",
    "#first: cosine_dists"
   ]
  },
  {
   "cell_type": "code",
   "execution_count": 41,
   "metadata": {},
   "outputs": [
    {
     "name": "stdout",
     "output_type": "stream",
     "text": [
      "(2000, 10)\n"
     ]
    }
   ],
   "source": [
    "print(np.shape(cosine_dists))"
   ]
  },
  {
   "cell_type": "code",
   "execution_count": 42,
   "metadata": {},
   "outputs": [
    {
     "data": {
      "text/plain": [
       "(2000,)"
      ]
     },
     "execution_count": 42,
     "metadata": {},
     "output_type": "execute_result"
    }
   ],
   "source": [
    "np.shape(cosine_dists[:,-1])"
   ]
  },
  {
   "cell_type": "code",
   "execution_count": 103,
   "metadata": {},
   "outputs": [
    {
     "name": "stdout",
     "output_type": "stream",
     "text": [
      "MOST:  ['mcgraw', 'skills', 'ml', 'techniques', 'programs', 'objectives', 'computer', 'radio', 'sector', 'goals', 'approach', 'van', 'shri', 'media', 'impact', 'perspective', 'patterns', 'berkeley', 'shift', 'film']\n",
      "LEAST:  ['april', 'june', 'november', 'february', 'years', 'october', 'increase', 'january', 'century', 'months', 'daughter', 'december', 'god', 'september', 'feet', 'week', 'evening', 'door', 'payment', 'miles']\n"
     ]
    }
   ],
   "source": [
    "final_dists = cosine_dists[:, -1]\n",
    "sorted_args = np.argsort(final_dists)\n",
    "most_changing = sorted_args[::-1][:20]\n",
    "least_changing = sorted_args[:20]\n",
    "\n",
    "most_words = [data['w'][i] for i in most_changing]\n",
    "least_words = [data['w'][i] for i in least_changing]\n",
    "\n",
    "print(\"MOST: \", most_words)\n",
    "print(\"LEAST: \", least_words)\n",
    "\n",
    "most_scores = [final_dists[i] for i in most_changing]\n",
    "least_scores = [final_dists[i] for i in least_changing]"
   ]
  },
  {
   "cell_type": "code",
   "execution_count": 104,
   "metadata": {},
   "outputs": [
    {
     "data": {
      "text/plain": [
       "(2000,)"
      ]
     },
     "execution_count": 104,
     "metadata": {},
     "output_type": "execute_result"
    }
   ],
   "source": [
    "np.shape(final_dists)"
   ]
  },
  {
   "cell_type": "code",
   "execution_count": 44,
   "metadata": {},
   "outputs": [
    {
     "data": {
      "text/plain": [
       "(2000, 10)"
      ]
     },
     "execution_count": 44,
     "metadata": {},
     "output_type": "execute_result"
    }
   ],
   "source": [
    "#second: sequential distances\n",
    "np.shape(seq_cosine_dists)"
   ]
  },
  {
   "cell_type": "code",
   "execution_count": 105,
   "metadata": {},
   "outputs": [
    {
     "data": {
      "text/plain": [
       "(2000,)"
      ]
     },
     "execution_count": 105,
     "metadata": {},
     "output_type": "execute_result"
    }
   ],
   "source": [
    "total_changes = np.sum(seq_cosine_dists, axis = 1)\n",
    "np.shape(total_changes)"
   ]
  },
  {
   "cell_type": "code",
   "execution_count": 106,
   "metadata": {},
   "outputs": [
    {
     "name": "stdout",
     "output_type": "stream",
     "text": [
      "MOST:  ['shri', 'computer', 'skills', 'mcgraw', 'ml', 'techniques', 'harper', 'jones', 'sector', 'berkeley', 'wiley', 'baltimore', 'martin', 'princeton', 'wilson', 'adams', 'therapy', 'johnson', 'goals', 'haven']\n",
      "LEAST:  ['april', 'miles', 'november', 'september', 'january', 'december', 'february', 'university', 'vessels', 'trees', 'cent', 'solution', 'july', 'decrease', 'october', 'temperature', 'buildings', 'june', 'patients', 'blood']\n"
     ]
    }
   ],
   "source": [
    "sorted_args = np.argsort(total_changes)\n",
    "most_changing2 = sorted_args[::-1][:20]\n",
    "least_changing2 = sorted_args[:20]\n",
    "\n",
    "most_words2 = [data['w'][i] for i in most_changing2]\n",
    "least_words2 = [data['w'][i] for i in least_changing2]\n",
    "\n",
    "print(\"MOST: \", most_words2)\n",
    "print(\"LEAST: \", least_words2)\n",
    "\n",
    "most_scores2 = [total_changes[i] for i in most_changing2]\n",
    "least_scores2 = [total_changes[i] for i in least_changing2]"
   ]
  },
  {
   "cell_type": "code",
   "execution_count": 54,
   "metadata": {},
   "outputs": [],
   "source": [
    "#third: word clusters\n"
   ]
  },
  {
   "cell_type": "code",
   "execution_count": 116,
   "metadata": {},
   "outputs": [],
   "source": [
    "\n",
    "prop_diff = []\n",
    "for i, word in enumerate(data['w']):\n",
    "    zero_nn = nn_10[0][i]\n",
    "    final_nn = nn_10[-1][i]\n",
    "    \n",
    "    num_same = len(set(zero_nn).intersection(set(final_nn)))\n",
    "    num_diff = len(zero_nn) - num_same\n",
    "    prop_diff.append(num_diff/len(zero_nn))"
   ]
  },
  {
   "cell_type": "code",
   "execution_count": 117,
   "metadata": {},
   "outputs": [
    {
     "data": {
      "text/plain": [
       "(2000, 0.1)"
      ]
     },
     "execution_count": 117,
     "metadata": {},
     "output_type": "execute_result"
    }
   ],
   "source": [
    "len(prop_diff), prop_diff[0]"
   ]
  },
  {
   "cell_type": "code",
   "execution_count": 63,
   "metadata": {},
   "outputs": [
    {
     "name": "stdout",
     "output_type": "stream",
     "text": [
      "MOST:  ['assessment', 'focus', 'programs', 'approach', 'sector', 'techniques', 'personality', 'disposition', 'radio', 'representation', 'ml', 'intelligence', 'mcgraw', 'signal', 'housing', 'skills', 'computer', 'objectives', 'adjustment', 'framework']\n",
      "LEAST:  ['september', 'november', 'august', 'october', 'december', 'february', 'april', 'january', 'july', 'june', 'march', 'everybody', 'h', 'cup', 'george', 'thomas', 'san', 'e', 'east', 'windows']\n"
     ]
    }
   ],
   "source": [
    "sorted_args = np.argsort(prop_diff)\n",
    "most_changing3 = sorted_args[::-1][:20]\n",
    "least_changing3 = sorted_args[:20]\n",
    "\n",
    "most_words3 = [data['w'][i] for i in most_changing3]\n",
    "least_words3 = [data['w'][i] for i in least_changing3]\n",
    "\n",
    "print(\"MOST: \", most_words3)\n",
    "print(\"LEAST: \", least_words3)\n",
    "\n",
    "most_scores3 = [prop_diff[i] for i in most_changing3]\n",
    "least_scores3 = [prop_diff[i] for i in least_changing3]"
   ]
  },
  {
   "cell_type": "markdown",
   "metadata": {},
   "source": [
    "#### Accuracy"
   ]
  },
  {
   "cell_type": "code",
   "execution_count": 69,
   "metadata": {},
   "outputs": [
    {
     "data": {
      "text/plain": [
       "2000"
      ]
     },
     "execution_count": 69,
     "metadata": {},
     "output_type": "execute_result"
    }
   ],
   "source": [
    "# ????????????????\n",
    "# Is method 3 more apt as a measure of accuracy?\n",
    "#Then alternative measure of change: euclidean distance between similarity vectors \n",
    "len(data['E'])"
   ]
  },
  {
   "cell_type": "code",
   "execution_count": 121,
   "metadata": {},
   "outputs": [],
   "source": [
    "dist_vectors = []\n",
    "for j, time_period in enumerate(data['d']):\n",
    "    \n",
    "    emb_matrix = np.zeros((len(data['w']), 300))\n",
    "    for i, w in enumerate(data['w']):\n",
    "        emb_matrix[i] = data['E'][i][j]\n",
    "    \n",
    "    cosine_dist = cosine_distances(emb_matrix)\n",
    "    \n",
    "    dist_vectors.append(cosine_dist)\n",
    "    \n",
    "    "
   ]
  },
  {
   "cell_type": "code",
   "execution_count": 122,
   "metadata": {},
   "outputs": [
    {
     "name": "stdout",
     "output_type": "stream",
     "text": [
      "10 2000 2000\n"
     ]
    }
   ],
   "source": [
    "print(len(dist_vectors), len(dist_vectors[0]), len(dist_vectors[0][0]))"
   ]
  },
  {
   "cell_type": "code",
   "execution_count": 109,
   "metadata": {},
   "outputs": [],
   "source": [
    "#euclidean distances\n",
    "euc_dists = []\n",
    "for i, word in enumerate(data['w']):\n",
    "    zero_vec = dist_vectors[0][i]\n",
    "    final_vec = dist_vectors[-1][i]\n",
    "    \n",
    "    euc = cosine_distances([zero_vec], [final_vec])\n",
    "    \n",
    "    euc_dists.append(euc[0][0])"
   ]
  },
  {
   "cell_type": "code",
   "execution_count": 123,
   "metadata": {},
   "outputs": [],
   "source": [
    "all_dists = []\n",
    "for i, word in enumerate(data['w']):\n",
    "    all_dists.append([])\n",
    "    for j, time in enumerate(data['d']):\n",
    "        prev = max(0, j-1)\n",
    "        prev_vec = dist_vectors[prev][i]\n",
    "        cur_vec = dist_vectors[j][i]\n",
    "        \n",
    "        cos_d = cosine_distances([prev_vec], [cur_vec])\n",
    "        \n",
    "        all_dists[i].append(cos_d[0][0])"
   ]
  },
  {
   "cell_type": "code",
   "execution_count": 125,
   "metadata": {},
   "outputs": [
    {
     "name": "stdout",
     "output_type": "stream",
     "text": [
      "2000 10 [0.0, 0.0015066560335905699, 0.0012573605237482521, 0.0013647415730730916, 0.001317781490017822, 0.001710399674004881, 0.001762938463642394, 0.001405201815395829, 0.0014719879573240613, 0.0014525629502947224]\n"
     ]
    }
   ],
   "source": [
    "print(len(all_dists), len(all_dists[0]), all_dists[0])"
   ]
  },
  {
   "cell_type": "code",
   "execution_count": 110,
   "metadata": {},
   "outputs": [
    {
     "data": {
      "text/plain": [
       "(2000,)"
      ]
     },
     "execution_count": 110,
     "metadata": {},
     "output_type": "execute_result"
    }
   ],
   "source": [
    "np.shape(euc_dists)"
   ]
  },
  {
   "cell_type": "code",
   "execution_count": 81,
   "metadata": {},
   "outputs": [
    {
     "name": "stdout",
     "output_type": "stream",
     "text": [
      "MOST:  ['impact', 'approach', 'objectives', 'programs', 'radio', 'sector', 'assessment', 'goals', 'film', 'model', 'framework', 'perspective', 'techniques', 'patterns', 'signal', 'computer', 'economy', 'models', 'levels', 'pattern']\n",
      "LEAST:  ['imprisonment', 'months', 'weather', 'dozen', 'shoulders', 'stairs', 'shoulder', 'season', 'hours', 'eyes', 'weeks', 'hope', 'hat', 'anyone', 'trees', 'evening', 'oath', 'morning', 'vessels', 'judgment']\n"
     ]
    }
   ],
   "source": [
    "sorted_args = np.argsort(euc_dists)\n",
    "most_changing4 = sorted_args[::-1][:20]\n",
    "least_changing4 = sorted_args[:20]\n",
    "\n",
    "most_words4 = [data['w'][i] for i in most_changing4]\n",
    "least_words4 = [data['w'][i] for i in least_changing4]\n",
    "\n",
    "print(\"MOST: \", most_words4)\n",
    "print(\"LEAST: \", least_words4)\n",
    "\n",
    "most_scores4 = [euc_dists[i] for i in most_changing4]\n",
    "least_scores4 = [euc_dists[i] for i in least_changing4]"
   ]
  },
  {
   "cell_type": "code",
   "execution_count": null,
   "metadata": {},
   "outputs": [],
   "source": []
  },
  {
   "cell_type": "code",
   "execution_count": 111,
   "metadata": {},
   "outputs": [
    {
     "data": {
      "text/plain": [
       "(0.7016806857714594, 1.8159631083935847e-296)"
      ]
     },
     "execution_count": 111,
     "metadata": {},
     "output_type": "execute_result"
    }
   ],
   "source": [
    "pearsonr(final_dists, total_changes)"
   ]
  },
  {
   "cell_type": "code",
   "execution_count": 112,
   "metadata": {},
   "outputs": [
    {
     "data": {
      "text/plain": [
       "(0.6384488007169163, 1.888971850317996e-229)"
      ]
     },
     "execution_count": 112,
     "metadata": {},
     "output_type": "execute_result"
    }
   ],
   "source": [
    "pearsonr(final_dists, euc_dists)"
   ]
  },
  {
   "cell_type": "code",
   "execution_count": 113,
   "metadata": {},
   "outputs": [
    {
     "data": {
      "text/plain": [
       "(0.3642617974902805, 8.445357332998497e-64)"
      ]
     },
     "execution_count": 113,
     "metadata": {},
     "output_type": "execute_result"
    }
   ],
   "source": [
    "pearsonr(total_changes, euc_dists)"
   ]
  },
  {
   "cell_type": "code",
   "execution_count": 118,
   "metadata": {},
   "outputs": [
    {
     "data": {
      "text/plain": [
       "(0.44896340129273726, 8.592983139439329e-100)"
      ]
     },
     "execution_count": 118,
     "metadata": {},
     "output_type": "execute_result"
    }
   ],
   "source": [
    "pearsonr(final_dists, prop_diff)"
   ]
  },
  {
   "cell_type": "code",
   "execution_count": 119,
   "metadata": {
    "scrolled": true
   },
   "outputs": [
    {
     "data": {
      "text/plain": [
       "(0.21699762848166249, 9.651638239967522e-23)"
      ]
     },
     "execution_count": 119,
     "metadata": {},
     "output_type": "execute_result"
    }
   ],
   "source": [
    "pearsonr(total_changes, prop_diff)"
   ]
  },
  {
   "cell_type": "code",
   "execution_count": 120,
   "metadata": {},
   "outputs": [
    {
     "data": {
      "text/plain": [
       "(0.48336970666119583, 1.2925388166070766e-117)"
      ]
     },
     "execution_count": 120,
     "metadata": {},
     "output_type": "execute_result"
    }
   ],
   "source": [
    "pearsonr(euc_dists, prop_diff)"
   ]
  },
  {
   "cell_type": "markdown",
   "metadata": {},
   "source": [
    "## Most \"accurate\": method 1"
   ]
  },
  {
   "cell_type": "code",
   "execution_count": 126,
   "metadata": {},
   "outputs": [
    {
     "name": "stdout",
     "output_type": "stream",
     "text": [
      "['impact', 'approach', 'objectives']\n",
      "[1019  501 1673]\n"
     ]
    }
   ],
   "source": [
    "sorted_args = np.argsort(euc_dists)\n",
    "# most_changing = sorted_args[::-1][:20]\n",
    "# least_changing = sorted_args[:20]\n",
    "\n",
    "# most_words = [data['w'][i] for i in most_changing]\n",
    "# least_words = [data['w'][i] for i in least_changing]\n",
    "\n",
    "# print(\"MOST: \", most_words)\n",
    "# print(\"LEAST: \", least_words)\n",
    "\n",
    "# most_scores = [final_dists[i] for i in most_changing]\n",
    "# least_scores = [final_dists[i] for i in least_changing]\n",
    "top_3 = sorted_args[::-1][:3]\n",
    "top_3_words = [data['w'][i] for i in top_3]\n",
    "print(top_3_words)\n",
    "print(top_3)"
   ]
  },
  {
   "cell_type": "code",
   "execution_count": 86,
   "metadata": {},
   "outputs": [
    {
     "data": {
      "text/plain": [
       "array([0., 0., 0., 0., 0., 0., 0., 0., 0., 0., 0., 0., 0., 0., 0., 0., 0.,\n",
       "       0., 0., 0., 0., 0., 0., 0., 0., 0., 0., 0., 0., 0., 0., 0., 0., 0.,\n",
       "       0., 0., 0., 0., 0., 0., 0., 0., 0., 0., 0., 0., 0., 0., 0., 0., 0.,\n",
       "       0., 0., 0., 0., 0., 0., 0., 0., 0., 0., 0., 0., 0., 0., 0., 0., 0.,\n",
       "       0., 0., 0., 0., 0., 0., 0., 0., 0., 0., 0., 0., 0., 0., 0., 0., 0.,\n",
       "       0., 0., 0., 0., 0., 0., 0., 0., 0., 0., 0., 0., 0., 0., 0., 0., 0.,\n",
       "       0., 0., 0., 0., 0., 0., 0., 0., 0., 0., 0., 0., 0., 0., 0., 0., 0.,\n",
       "       0., 0., 0., 0., 0., 0., 0., 0., 0., 0., 0., 0., 0., 0., 0., 0., 0.,\n",
       "       0., 0., 0., 0., 0., 0., 0., 0., 0., 0., 0., 0., 0., 0., 0., 0., 0.,\n",
       "       0., 0., 0., 0., 0., 0., 0., 0., 0., 0., 0., 0., 0., 0., 0., 0., 0.,\n",
       "       0., 0., 0., 0., 0., 0., 0., 0., 0., 0., 0., 0., 0., 0., 0., 0., 0.,\n",
       "       0., 0., 0., 0., 0., 0., 0., 0., 0., 0., 0., 0., 0., 0., 0., 0., 0.,\n",
       "       0., 0., 0., 0., 0., 0., 0., 0., 0., 0., 0., 0., 0., 0., 0., 0., 0.,\n",
       "       0., 0., 0., 0., 0., 0., 0., 0., 0., 0., 0., 0., 0., 0., 0., 0., 0.,\n",
       "       0., 0., 0., 0., 0., 0., 0., 0., 0., 0., 0., 0., 0., 0., 0., 0., 0.,\n",
       "       0., 0., 0., 0., 0., 0., 0., 0., 0., 0., 0., 0., 0., 0., 0., 0., 0.,\n",
       "       0., 0., 0., 0., 0., 0., 0., 0., 0., 0., 0., 0., 0., 0., 0., 0., 0.,\n",
       "       0., 0., 0., 0., 0., 0., 0., 0., 0., 0., 0.])"
      ]
     },
     "execution_count": 86,
     "metadata": {},
     "output_type": "execute_result"
    }
   ],
   "source": [
    "data['E'][1668][1]"
   ]
  },
  {
   "cell_type": "code",
   "execution_count": 56,
   "metadata": {},
   "outputs": [
    {
     "data": {
      "text/plain": [
       "array([1., 1., 1., 1., 1., 1., 1., 1., 1., 1.])"
      ]
     },
     "execution_count": 56,
     "metadata": {},
     "output_type": "execute_result"
    }
   ],
   "source": [
    "cosine_dists[1729]"
   ]
  },
  {
   "cell_type": "code",
   "execution_count": 128,
   "metadata": {},
   "outputs": [],
   "source": [
    "#to previous time period\n",
    "top3_seq = np.zeros((len(top_3), len(data['d'])))\n",
    "\n",
    "for i, ind in enumerate(top_3):\n",
    "    top3_seq[i] = all_dists[ind]"
   ]
  },
  {
   "cell_type": "code",
   "execution_count": 129,
   "metadata": {},
   "outputs": [
    {
     "data": {
      "text/plain": [
       "(3, 10)"
      ]
     },
     "execution_count": 129,
     "metadata": {},
     "output_type": "execute_result"
    }
   ],
   "source": [
    "np.shape(top3_seq)"
   ]
  },
  {
   "cell_type": "code",
   "execution_count": 130,
   "metadata": {},
   "outputs": [
    {
     "data": {
      "text/plain": [
       "array([0.        , 0.00141184, 0.00118534, 0.00138388, 0.00143693,\n",
       "       0.00123905, 0.00137249, 0.0013714 , 0.00103471, 0.00100373])"
      ]
     },
     "execution_count": 130,
     "metadata": {},
     "output_type": "execute_result"
    }
   ],
   "source": [
    "top3_seq[0]"
   ]
  },
  {
   "cell_type": "code",
   "execution_count": 87,
   "metadata": {},
   "outputs": [
    {
     "data": {
      "text/plain": [
       "True"
      ]
     },
     "execution_count": 87,
     "metadata": {},
     "output_type": "execute_result"
    }
   ],
   "source": [
    "top3_seq[0][0] == 1.0"
   ]
  },
  {
   "cell_type": "code",
   "execution_count": null,
   "metadata": {},
   "outputs": [],
   "source": [
    "import matplotlib.pyplot as plt"
   ]
  },
  {
   "cell_type": "code",
   "execution_count": 132,
   "metadata": {},
   "outputs": [
    {
     "data": {
      "image/png": "[encoded data removed]",
      "text/plain": [
       "<Figure size 432x288 with 1 Axes>"
      ]
     },
     "metadata": {},
     "output_type": "display_data"
    },
    {
     "data": {
      "image/png": "[encoded data removed]",
      "text/plain": [
       "<Figure size 432x288 with 1 Axes>"
      ]
     },
     "metadata": {},
     "output_type": "display_data"
    },
    {
     "data": {
      "image/png": "[encoded data removed]",
      "text/plain": [
       "<Figure size 432x288 with 1 Axes>"
      ]
     },
     "metadata": {},
     "output_type": "display_data"
    }
   ],
   "source": [
    "#plot\n",
    "for i, row in enumerate(top3_seq):\n",
    "    plt.figure()\n",
    "    plt.plot(data['d'][1:], row[1:])\n",
    "    plt.xlabel(\"Decade\")\n",
    "    plt.ylabel(\"cos-dist(t, t-1)\")\n",
    "    plt.title(\"Word: \" + top_3_words[i].upper())\n",
    "    plt.show()"
   ]
  },
  {
   "cell_type": "code",
   "execution_count": 137,
   "metadata": {},
   "outputs": [
    {
     "name": "stdout",
     "output_type": "stream",
     "text": [
      "[0.0, 0.00022649915630656992, 2.7955992755179793e-05, 0.0002515923799700781, 0.00014483129383813242, 6.444678544814675e-05, 0.00013235097006270014, 0.0003377760924274664, 0.0003676784516167819]\n",
      "impact 1980\n",
      "[0.0, 0.00014352670774053777, 4.9870805236329474e-05, 0.0001985808325287719, 8.52547783996016e-05, 2.93447123463908e-05, 9.159735959185511e-05, 7.837684170031167e-05, 9.04814422475475e-05]\n",
      "approach 1930\n",
      "[0.0, 0.0008904202170916253, 0.0016421115592972768, 0.002630897583149938, 0.0003031129245534281, 0.0002643056170674729, 3.462238050444544e-05, 1.884250928518849e-05, 8.765831987267436e-05]\n",
      "objectives 1930\n"
     ]
    }
   ],
   "source": [
    "#max delta\n",
    "#ignoring 1\n",
    "for i, row in enumerate(top3_seq):\n",
    "#     max_cons = []\n",
    "#     for val in row:\n",
    "#         if val == 1.0:\n",
    "#             max_cons.append(0)\n",
    "#         else:\n",
    "#             max_cons.append(val)\n",
    "    diffs = []\n",
    "    for j, val in enumerate(row[1:]):\n",
    "        p = max(1, j-1)\n",
    "        diffs.append(abs(val - row[p]))\n",
    "    print(diffs)\n",
    "    max_ind = np.argmax(diffs)\n",
    "    \n",
    "    print(top_3_words[i], data['d'][max_ind])"
   ]
  },
  {
   "cell_type": "code",
   "execution_count": null,
   "metadata": {},
   "outputs": [],
   "source": []
  }
 ],
 "metadata": {
  "kernelspec": {
   "display_name": "Python 3",
   "language": "python",
   "name": "python3"
  },
  "language_info": {
   "codemirror_mode": {
    "name": "ipython",
    "version": 3
   },
   "file_extension": ".py",
   "mimetype": "text/x-python",
   "name": "python",
   "nbconvert_exporter": "python",
   "pygments_lexer": "ipython3",
   "version": "3.7.5"
  },
  "varInspector": {
   "cols": {
    "lenName": 16,
    "lenType": 16,
    "lenVar": 40
   },
   "kernels_config": {
    "python": {
     "delete_cmd_postfix": "",
     "delete_cmd_prefix": "del ",
     "library": "var_list.py",
     "varRefreshCmd": "print(var_dic_list())"
    },
    "r": {
     "delete_cmd_postfix": ") ",
     "delete_cmd_prefix": "rm(",
     "library": "var_list.r",
     "varRefreshCmd": "cat(var_dic_list()) "
    }
   },
   "types_to_exclude": [
    "module",
    "function",
    "builtin_function_or_method",
    "instance",
    "_Feature"
   ],
   "window_display": false
  }
 },
 "nbformat": 4,
 "nbformat_minor": 2
}
